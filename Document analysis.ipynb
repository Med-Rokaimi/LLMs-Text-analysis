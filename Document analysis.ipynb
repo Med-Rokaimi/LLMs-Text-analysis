{
  "cells": [
    {
      "cell_type": "markdown",
      "metadata": {
        "id": "view-in-github",
        "colab_type": "text"
      },
      "source": [
        "<a href=\"https://colab.research.google.com/github/Med-Rokaimi/LLMs-document-analysis/blob/main/Document%20analysis.ipynb\" target=\"_parent\"><img src=\"https://colab.research.google.com/assets/colab-badge.svg\" alt=\"Open In Colab\"/></a>"
      ]
    },
    {
      "cell_type": "markdown",
      "metadata": {
        "id": "pcxCYPUYAZZA"
      },
      "source": [
        "Analyzing documents LLMs models : PALM2 and Gemini Pro:\n",
        "\n",
        "\n",
        "*   Summarize each document\n",
        "*   Quering and retrival documents (Q&A)\n",
        "*   Identify the documents discussing a specific topic\n",
        "*   Q&A : Gemini Pro example\n"
      ]
    },
    {
      "cell_type": "markdown",
      "metadata": {
        "id": "L8WERM9GD1dw"
      },
      "source": [
        "# packages"
      ]
    },
    {
      "cell_type": "code",
      "source": [
        "import warnings\n",
        "warnings.filterwarnings('ignore')"
      ],
      "metadata": {
        "id": "31-DYOvqRrAZ"
      },
      "execution_count": null,
      "outputs": []
    },
    {
      "cell_type": "code",
      "execution_count": 2,
      "metadata": {
        "colab": {
          "base_uri": "https://localhost:8080/"
        },
        "id": "z17K9qBvoRDh",
        "outputId": "88500c5a-ea7f-4328-dfc5-57f04e97ef8e"
      },
      "outputs": [
        {
          "output_type": "stream",
          "name": "stdout",
          "text": [
            "\u001b[2K     \u001b[90m━━━━━━━━━━━━━━━━━━━━━━━━━━━━━━━━━━━━━━━━\u001b[0m \u001b[32m794.3/794.3 kB\u001b[0m \u001b[31m10.9 MB/s\u001b[0m eta \u001b[36m0:00:00\u001b[0m\n",
            "\u001b[2K     \u001b[90m━━━━━━━━━━━━━━━━━━━━━━━━━━━━━━━━━━━━━━━━\u001b[0m \u001b[32m1.5/1.5 MB\u001b[0m \u001b[31m45.7 MB/s\u001b[0m eta \u001b[36m0:00:00\u001b[0m\n",
            "\u001b[2K     \u001b[90m━━━━━━━━━━━━━━━━━━━━━━━━━━━━━━━━━━━━━━━━\u001b[0m \u001b[32m190.6/190.6 kB\u001b[0m \u001b[31m21.3 MB/s\u001b[0m eta \u001b[36m0:00:00\u001b[0m\n",
            "\u001b[2K     \u001b[90m━━━━━━━━━━━━━━━━━━━━━━━━━━━━━━━━━━━━━━━━\u001b[0m \u001b[32m46.3/46.3 kB\u001b[0m \u001b[31m4.7 MB/s\u001b[0m eta \u001b[36m0:00:00\u001b[0m\n",
            "\u001b[2K     \u001b[90m━━━━━━━━━━━━━━━━━━━━━━━━━━━━━━━━━━━━━━━━\u001b[0m \u001b[32m49.4/49.4 kB\u001b[0m \u001b[31m5.3 MB/s\u001b[0m eta \u001b[36m0:00:00\u001b[0m\n",
            "\u001b[?25hCollecting chromadb\n",
            "  Downloading chromadb-0.4.20-py3-none-any.whl (507 kB)\n",
            "\u001b[2K     \u001b[90m━━━━━━━━━━━━━━━━━━━━━━━━━━━━━━━━━━━━━━━━\u001b[0m \u001b[32m507.7/507.7 kB\u001b[0m \u001b[31m5.7 MB/s\u001b[0m eta \u001b[36m0:00:00\u001b[0m\n",
            "\u001b[?25hRequirement already satisfied: requests>=2.28 in /usr/local/lib/python3.10/dist-packages (from chromadb) (2.31.0)\n",
            "Requirement already satisfied: pydantic>=1.9 in /usr/local/lib/python3.10/dist-packages (from chromadb) (1.10.13)\n",
            "Collecting chroma-hnswlib==0.7.3 (from chromadb)\n",
            "  Downloading chroma_hnswlib-0.7.3-cp310-cp310-manylinux_2_17_x86_64.manylinux2014_x86_64.whl (2.4 MB)\n",
            "\u001b[2K     \u001b[90m━━━━━━━━━━━━━━━━━━━━━━━━━━━━━━━━━━━━━━━━\u001b[0m \u001b[32m2.4/2.4 MB\u001b[0m \u001b[31m75.6 MB/s\u001b[0m eta \u001b[36m0:00:00\u001b[0m\n",
            "\u001b[?25hCollecting fastapi>=0.95.2 (from chromadb)\n",
            "  Downloading fastapi-0.105.0-py3-none-any.whl (93 kB)\n",
            "\u001b[2K     \u001b[90m━━━━━━━━━━━━━━━━━━━━━━━━━━━━━━━━━━━━━━━━\u001b[0m \u001b[32m93.1/93.1 kB\u001b[0m \u001b[31m10.2 MB/s\u001b[0m eta \u001b[36m0:00:00\u001b[0m\n",
            "\u001b[?25hCollecting uvicorn[standard]>=0.18.3 (from chromadb)\n",
            "  Downloading uvicorn-0.24.0.post1-py3-none-any.whl (59 kB)\n",
            "\u001b[2K     \u001b[90m━━━━━━━━━━━━━━━━━━━━━━━━━━━━━━━━━━━━━━━━\u001b[0m \u001b[32m59.7/59.7 kB\u001b[0m \u001b[31m7.6 MB/s\u001b[0m eta \u001b[36m0:00:00\u001b[0m\n",
            "\u001b[?25hRequirement already satisfied: numpy>=1.22.5 in /usr/local/lib/python3.10/dist-packages (from chromadb) (1.23.5)\n",
            "Collecting posthog>=2.4.0 (from chromadb)\n",
            "  Downloading posthog-3.1.0-py2.py3-none-any.whl (37 kB)\n",
            "Requirement already satisfied: typing-extensions>=4.5.0 in /usr/local/lib/python3.10/dist-packages (from chromadb) (4.5.0)\n",
            "Collecting pulsar-client>=3.1.0 (from chromadb)\n",
            "  Downloading pulsar_client-3.3.0-cp310-cp310-manylinux_2_17_x86_64.manylinux2014_x86_64.whl (5.4 MB)\n",
            "\u001b[2K     \u001b[90m━━━━━━━━━━━━━━━━━━━━━━━━━━━━━━━━━━━━━━━━\u001b[0m \u001b[32m5.4/5.4 MB\u001b[0m \u001b[31m66.9 MB/s\u001b[0m eta \u001b[36m0:00:00\u001b[0m\n",
            "\u001b[?25hCollecting onnxruntime>=1.14.1 (from chromadb)\n",
            "  Downloading onnxruntime-1.16.3-cp310-cp310-manylinux_2_17_x86_64.manylinux2014_x86_64.whl (6.4 MB)\n",
            "\u001b[2K     \u001b[90m━━━━━━━━━━━━━━━━━━━━━━━━━━━━━━━━━━━━━━━━\u001b[0m \u001b[32m6.4/6.4 MB\u001b[0m \u001b[31m87.4 MB/s\u001b[0m eta \u001b[36m0:00:00\u001b[0m\n",
            "\u001b[?25hCollecting opentelemetry-api>=1.2.0 (from chromadb)\n",
            "  Downloading opentelemetry_api-1.22.0-py3-none-any.whl (57 kB)\n",
            "\u001b[2K     \u001b[90m━━━━━━━━━━━━━━━━━━━━━━━━━━━━━━━━━━━━━━━━\u001b[0m \u001b[32m57.9/57.9 kB\u001b[0m \u001b[31m6.7 MB/s\u001b[0m eta \u001b[36m0:00:00\u001b[0m\n",
            "\u001b[?25hCollecting opentelemetry-exporter-otlp-proto-grpc>=1.2.0 (from chromadb)\n",
            "  Downloading opentelemetry_exporter_otlp_proto_grpc-1.22.0-py3-none-any.whl (18 kB)\n",
            "Collecting opentelemetry-instrumentation-fastapi>=0.41b0 (from chromadb)\n",
            "  Downloading opentelemetry_instrumentation_fastapi-0.43b0-py3-none-any.whl (11 kB)\n",
            "Collecting opentelemetry-sdk>=1.2.0 (from chromadb)\n",
            "  Downloading opentelemetry_sdk-1.22.0-py3-none-any.whl (105 kB)\n",
            "\u001b[2K     \u001b[90m━━━━━━━━━━━━━━━━━━━━━━━━━━━━━━━━━━━━━━━━\u001b[0m \u001b[32m105.6/105.6 kB\u001b[0m \u001b[31m13.9 MB/s\u001b[0m eta \u001b[36m0:00:00\u001b[0m\n",
            "\u001b[?25hRequirement already satisfied: tokenizers>=0.13.2 in /usr/local/lib/python3.10/dist-packages (from chromadb) (0.15.0)\n",
            "Collecting pypika>=0.48.9 (from chromadb)\n",
            "  Downloading PyPika-0.48.9.tar.gz (67 kB)\n",
            "\u001b[2K     \u001b[90m━━━━━━━━━━━━━━━━━━━━━━━━━━━━━━━━━━━━━━━━\u001b[0m \u001b[32m67.3/67.3 kB\u001b[0m \u001b[31m7.3 MB/s\u001b[0m eta \u001b[36m0:00:00\u001b[0m\n",
            "\u001b[?25h  Installing build dependencies ... \u001b[?25l\u001b[?25hdone\n",
            "  Getting requirements to build wheel ... \u001b[?25l\u001b[?25hdone\n",
            "  Preparing metadata (pyproject.toml) ... \u001b[?25l\u001b[?25hdone\n",
            "Requirement already satisfied: tqdm>=4.65.0 in /usr/local/lib/python3.10/dist-packages (from chromadb) (4.66.1)\n",
            "Collecting overrides>=7.3.1 (from chromadb)\n",
            "  Downloading overrides-7.4.0-py3-none-any.whl (17 kB)\n",
            "Requirement already satisfied: importlib-resources in /usr/local/lib/python3.10/dist-packages (from chromadb) (6.1.1)\n",
            "Requirement already satisfied: grpcio>=1.58.0 in /usr/local/lib/python3.10/dist-packages (from chromadb) (1.60.0)\n",
            "Collecting bcrypt>=4.0.1 (from chromadb)\n",
            "  Downloading bcrypt-4.1.2-cp39-abi3-manylinux_2_28_x86_64.whl (698 kB)\n",
            "\u001b[2K     \u001b[90m━━━━━━━━━━━━━━━━━━━━━━━━━━━━━━━━━━━━━━━━\u001b[0m \u001b[32m698.9/698.9 kB\u001b[0m \u001b[31m50.5 MB/s\u001b[0m eta \u001b[36m0:00:00\u001b[0m\n",
            "\u001b[?25hRequirement already satisfied: typer>=0.9.0 in /usr/local/lib/python3.10/dist-packages (from chromadb) (0.9.0)\n",
            "Collecting kubernetes>=28.1.0 (from chromadb)\n",
            "  Downloading kubernetes-28.1.0-py2.py3-none-any.whl (1.6 MB)\n",
            "\u001b[2K     \u001b[90m━━━━━━━━━━━━━━━━━━━━━━━━━━━━━━━━━━━━━━━━\u001b[0m \u001b[32m1.6/1.6 MB\u001b[0m \u001b[31m70.4 MB/s\u001b[0m eta \u001b[36m0:00:00\u001b[0m\n",
            "\u001b[?25hRequirement already satisfied: tenacity>=8.2.3 in /usr/local/lib/python3.10/dist-packages (from chromadb) (8.2.3)\n",
            "Requirement already satisfied: PyYAML>=6.0.0 in /usr/local/lib/python3.10/dist-packages (from chromadb) (6.0.1)\n",
            "Collecting mmh3>=4.0.1 (from chromadb)\n",
            "  Downloading mmh3-4.0.1-cp310-cp310-manylinux_2_5_x86_64.manylinux1_x86_64.manylinux_2_17_x86_64.manylinux2014_x86_64.whl (72 kB)\n",
            "\u001b[2K     \u001b[90m━━━━━━━━━━━━━━━━━━━━━━━━━━━━━━━━━━━━━━━━\u001b[0m \u001b[32m72.6/72.6 kB\u001b[0m \u001b[31m8.9 MB/s\u001b[0m eta \u001b[36m0:00:00\u001b[0m\n",
            "\u001b[?25hRequirement already satisfied: anyio<4.0.0,>=3.7.1 in /usr/local/lib/python3.10/dist-packages (from fastapi>=0.95.2->chromadb) (3.7.1)\n",
            "Collecting starlette<0.28.0,>=0.27.0 (from fastapi>=0.95.2->chromadb)\n",
            "  Downloading starlette-0.27.0-py3-none-any.whl (66 kB)\n",
            "\u001b[2K     \u001b[90m━━━━━━━━━━━━━━━━━━━━━━━━━━━━━━━━━━━━━━━━\u001b[0m \u001b[32m67.0/67.0 kB\u001b[0m \u001b[31m8.0 MB/s\u001b[0m eta \u001b[36m0:00:00\u001b[0m\n",
            "\u001b[?25hCollecting typing-extensions>=4.5.0 (from chromadb)\n",
            "  Downloading typing_extensions-4.9.0-py3-none-any.whl (32 kB)\n",
            "Requirement already satisfied: certifi>=14.05.14 in /usr/local/lib/python3.10/dist-packages (from kubernetes>=28.1.0->chromadb) (2023.11.17)\n",
            "Requirement already satisfied: six>=1.9.0 in /usr/local/lib/python3.10/dist-packages (from kubernetes>=28.1.0->chromadb) (1.16.0)\n",
            "Requirement already satisfied: python-dateutil>=2.5.3 in /usr/local/lib/python3.10/dist-packages (from kubernetes>=28.1.0->chromadb) (2.8.2)\n",
            "Requirement already satisfied: google-auth>=1.0.1 in /usr/local/lib/python3.10/dist-packages (from kubernetes>=28.1.0->chromadb) (2.17.3)\n",
            "Requirement already satisfied: websocket-client!=0.40.0,!=0.41.*,!=0.42.*,>=0.32.0 in /usr/local/lib/python3.10/dist-packages (from kubernetes>=28.1.0->chromadb) (1.7.0)\n",
            "Requirement already satisfied: requests-oauthlib in /usr/local/lib/python3.10/dist-packages (from kubernetes>=28.1.0->chromadb) (1.3.1)\n",
            "Requirement already satisfied: oauthlib>=3.2.2 in /usr/local/lib/python3.10/dist-packages (from kubernetes>=28.1.0->chromadb) (3.2.2)\n",
            "Collecting urllib3<2.0,>=1.24.2 (from kubernetes>=28.1.0->chromadb)\n",
            "  Downloading urllib3-1.26.18-py2.py3-none-any.whl (143 kB)\n",
            "\u001b[2K     \u001b[90m━━━━━━━━━━━━━━━━━━━━━━━━━━━━━━━━━━━━━━━━\u001b[0m \u001b[32m143.8/143.8 kB\u001b[0m \u001b[31m15.6 MB/s\u001b[0m eta \u001b[36m0:00:00\u001b[0m\n",
            "\u001b[?25hCollecting coloredlogs (from onnxruntime>=1.14.1->chromadb)\n",
            "  Downloading coloredlogs-15.0.1-py2.py3-none-any.whl (46 kB)\n",
            "\u001b[2K     \u001b[90m━━━━━━━━━━━━━━━━━━━━━━━━━━━━━━━━━━━━━━━━\u001b[0m \u001b[32m46.0/46.0 kB\u001b[0m \u001b[31m5.0 MB/s\u001b[0m eta \u001b[36m0:00:00\u001b[0m\n",
            "\u001b[?25hRequirement already satisfied: flatbuffers in /usr/local/lib/python3.10/dist-packages (from onnxruntime>=1.14.1->chromadb) (23.5.26)\n",
            "Requirement already satisfied: packaging in /usr/local/lib/python3.10/dist-packages (from onnxruntime>=1.14.1->chromadb) (23.2)\n",
            "Requirement already satisfied: protobuf in /usr/local/lib/python3.10/dist-packages (from onnxruntime>=1.14.1->chromadb) (3.20.3)\n",
            "Requirement already satisfied: sympy in /usr/local/lib/python3.10/dist-packages (from onnxruntime>=1.14.1->chromadb) (1.12)\n",
            "Collecting deprecated>=1.2.6 (from opentelemetry-api>=1.2.0->chromadb)\n",
            "  Downloading Deprecated-1.2.14-py2.py3-none-any.whl (9.6 kB)\n",
            "Collecting importlib-metadata<7.0,>=6.0 (from opentelemetry-api>=1.2.0->chromadb)\n",
            "  Downloading importlib_metadata-6.11.0-py3-none-any.whl (23 kB)\n",
            "Collecting backoff<3.0.0,>=1.10.0 (from opentelemetry-exporter-otlp-proto-grpc>=1.2.0->chromadb)\n",
            "  Downloading backoff-2.2.1-py3-none-any.whl (15 kB)\n",
            "Requirement already satisfied: googleapis-common-protos~=1.52 in /usr/local/lib/python3.10/dist-packages (from opentelemetry-exporter-otlp-proto-grpc>=1.2.0->chromadb) (1.62.0)\n",
            "Collecting opentelemetry-exporter-otlp-proto-common==1.22.0 (from opentelemetry-exporter-otlp-proto-grpc>=1.2.0->chromadb)\n",
            "  Downloading opentelemetry_exporter_otlp_proto_common-1.22.0-py3-none-any.whl (17 kB)\n",
            "Collecting opentelemetry-proto==1.22.0 (from opentelemetry-exporter-otlp-proto-grpc>=1.2.0->chromadb)\n",
            "  Downloading opentelemetry_proto-1.22.0-py3-none-any.whl (50 kB)\n",
            "\u001b[2K     \u001b[90m━━━━━━━━━━━━━━━━━━━━━━━━━━━━━━━━━━━━━━━━\u001b[0m \u001b[32m50.8/50.8 kB\u001b[0m \u001b[31m6.3 MB/s\u001b[0m eta \u001b[36m0:00:00\u001b[0m\n",
            "\u001b[?25hCollecting opentelemetry-instrumentation-asgi==0.43b0 (from opentelemetry-instrumentation-fastapi>=0.41b0->chromadb)\n",
            "  Downloading opentelemetry_instrumentation_asgi-0.43b0-py3-none-any.whl (14 kB)\n",
            "Collecting opentelemetry-instrumentation==0.43b0 (from opentelemetry-instrumentation-fastapi>=0.41b0->chromadb)\n",
            "  Downloading opentelemetry_instrumentation-0.43b0-py3-none-any.whl (28 kB)\n",
            "Collecting opentelemetry-semantic-conventions==0.43b0 (from opentelemetry-instrumentation-fastapi>=0.41b0->chromadb)\n",
            "  Downloading opentelemetry_semantic_conventions-0.43b0-py3-none-any.whl (36 kB)\n",
            "Collecting opentelemetry-util-http==0.43b0 (from opentelemetry-instrumentation-fastapi>=0.41b0->chromadb)\n",
            "  Downloading opentelemetry_util_http-0.43b0-py3-none-any.whl (6.9 kB)\n",
            "Requirement already satisfied: setuptools>=16.0 in /usr/local/lib/python3.10/dist-packages (from opentelemetry-instrumentation==0.43b0->opentelemetry-instrumentation-fastapi>=0.41b0->chromadb) (67.7.2)\n",
            "Requirement already satisfied: wrapt<2.0.0,>=1.0.0 in /usr/local/lib/python3.10/dist-packages (from opentelemetry-instrumentation==0.43b0->opentelemetry-instrumentation-fastapi>=0.41b0->chromadb) (1.14.1)\n",
            "Collecting asgiref~=3.0 (from opentelemetry-instrumentation-asgi==0.43b0->opentelemetry-instrumentation-fastapi>=0.41b0->chromadb)\n",
            "  Downloading asgiref-3.7.2-py3-none-any.whl (24 kB)\n",
            "Collecting monotonic>=1.5 (from posthog>=2.4.0->chromadb)\n",
            "  Downloading monotonic-1.6-py2.py3-none-any.whl (8.2 kB)\n",
            "Requirement already satisfied: charset-normalizer<4,>=2 in /usr/local/lib/python3.10/dist-packages (from requests>=2.28->chromadb) (3.3.2)\n",
            "Requirement already satisfied: idna<4,>=2.5 in /usr/local/lib/python3.10/dist-packages (from requests>=2.28->chromadb) (3.6)\n",
            "Requirement already satisfied: huggingface_hub<1.0,>=0.16.4 in /usr/local/lib/python3.10/dist-packages (from tokenizers>=0.13.2->chromadb) (0.19.4)\n",
            "Requirement already satisfied: click<9.0.0,>=7.1.1 in /usr/local/lib/python3.10/dist-packages (from typer>=0.9.0->chromadb) (8.1.7)\n",
            "Collecting h11>=0.8 (from uvicorn[standard]>=0.18.3->chromadb)\n",
            "  Downloading h11-0.14.0-py3-none-any.whl (58 kB)\n",
            "\u001b[2K     \u001b[90m━━━━━━━━━━━━━━━━━━━━━━━━━━━━━━━━━━━━━━━━\u001b[0m \u001b[32m58.3/58.3 kB\u001b[0m \u001b[31m7.9 MB/s\u001b[0m eta \u001b[36m0:00:00\u001b[0m\n",
            "\u001b[?25hCollecting httptools>=0.5.0 (from uvicorn[standard]>=0.18.3->chromadb)\n",
            "  Downloading httptools-0.6.1-cp310-cp310-manylinux_2_5_x86_64.manylinux1_x86_64.manylinux_2_17_x86_64.manylinux2014_x86_64.whl (341 kB)\n",
            "\u001b[2K     \u001b[90m━━━━━━━━━━━━━━━━━━━━━━━━━━━━━━━━━━━━━━━━\u001b[0m \u001b[32m341.4/341.4 kB\u001b[0m \u001b[31m30.7 MB/s\u001b[0m eta \u001b[36m0:00:00\u001b[0m\n",
            "\u001b[?25hCollecting python-dotenv>=0.13 (from uvicorn[standard]>=0.18.3->chromadb)\n",
            "  Downloading python_dotenv-1.0.0-py3-none-any.whl (19 kB)\n",
            "Collecting uvloop!=0.15.0,!=0.15.1,>=0.14.0 (from uvicorn[standard]>=0.18.3->chromadb)\n",
            "  Downloading uvloop-0.19.0-cp310-cp310-manylinux_2_17_x86_64.manylinux2014_x86_64.whl (3.4 MB)\n",
            "\u001b[2K     \u001b[90m━━━━━━━━━━━━━━━━━━━━━━━━━━━━━━━━━━━━━━━━\u001b[0m \u001b[32m3.4/3.4 MB\u001b[0m \u001b[31m68.5 MB/s\u001b[0m eta \u001b[36m0:00:00\u001b[0m\n",
            "\u001b[?25hCollecting watchfiles>=0.13 (from uvicorn[standard]>=0.18.3->chromadb)\n",
            "  Downloading watchfiles-0.21.0-cp310-cp310-manylinux_2_17_x86_64.manylinux2014_x86_64.whl (1.3 MB)\n",
            "\u001b[2K     \u001b[90m━━━━━━━━━━━━━━━━━━━━━━━━━━━━━━━━━━━━━━━━\u001b[0m \u001b[32m1.3/1.3 MB\u001b[0m \u001b[31m72.9 MB/s\u001b[0m eta \u001b[36m0:00:00\u001b[0m\n",
            "\u001b[?25hCollecting websockets>=10.4 (from uvicorn[standard]>=0.18.3->chromadb)\n",
            "  Downloading websockets-12.0-cp310-cp310-manylinux_2_5_x86_64.manylinux1_x86_64.manylinux_2_17_x86_64.manylinux2014_x86_64.whl (130 kB)\n",
            "\u001b[2K     \u001b[90m━━━━━━━━━━━━━━━━━━━━━━━━━━━━━━━━━━━━━━━━\u001b[0m \u001b[32m130.2/130.2 kB\u001b[0m \u001b[31m17.1 MB/s\u001b[0m eta \u001b[36m0:00:00\u001b[0m\n",
            "\u001b[?25hRequirement already satisfied: sniffio>=1.1 in /usr/local/lib/python3.10/dist-packages (from anyio<4.0.0,>=3.7.1->fastapi>=0.95.2->chromadb) (1.3.0)\n",
            "Requirement already satisfied: exceptiongroup in /usr/local/lib/python3.10/dist-packages (from anyio<4.0.0,>=3.7.1->fastapi>=0.95.2->chromadb) (1.2.0)\n",
            "Requirement already satisfied: cachetools<6.0,>=2.0.0 in /usr/local/lib/python3.10/dist-packages (from google-auth>=1.0.1->kubernetes>=28.1.0->chromadb) (5.3.2)\n",
            "Requirement already satisfied: pyasn1-modules>=0.2.1 in /usr/local/lib/python3.10/dist-packages (from google-auth>=1.0.1->kubernetes>=28.1.0->chromadb) (0.3.0)\n",
            "Requirement already satisfied: rsa<5,>=3.1.4 in /usr/local/lib/python3.10/dist-packages (from google-auth>=1.0.1->kubernetes>=28.1.0->chromadb) (4.9)\n",
            "Requirement already satisfied: filelock in /usr/local/lib/python3.10/dist-packages (from huggingface_hub<1.0,>=0.16.4->tokenizers>=0.13.2->chromadb) (3.13.1)\n",
            "Requirement already satisfied: fsspec>=2023.5.0 in /usr/local/lib/python3.10/dist-packages (from huggingface_hub<1.0,>=0.16.4->tokenizers>=0.13.2->chromadb) (2023.6.0)\n",
            "Requirement already satisfied: zipp>=0.5 in /usr/local/lib/python3.10/dist-packages (from importlib-metadata<7.0,>=6.0->opentelemetry-api>=1.2.0->chromadb) (3.17.0)\n",
            "Collecting humanfriendly>=9.1 (from coloredlogs->onnxruntime>=1.14.1->chromadb)\n",
            "  Downloading humanfriendly-10.0-py2.py3-none-any.whl (86 kB)\n",
            "\u001b[2K     \u001b[90m━━━━━━━━━━━━━━━━━━━━━━━━━━━━━━━━━━━━━━━━\u001b[0m \u001b[32m86.8/86.8 kB\u001b[0m \u001b[31m11.0 MB/s\u001b[0m eta \u001b[36m0:00:00\u001b[0m\n",
            "\u001b[?25hRequirement already satisfied: mpmath>=0.19 in /usr/local/lib/python3.10/dist-packages (from sympy->onnxruntime>=1.14.1->chromadb) (1.3.0)\n",
            "Requirement already satisfied: pyasn1<0.6.0,>=0.4.6 in /usr/local/lib/python3.10/dist-packages (from pyasn1-modules>=0.2.1->google-auth>=1.0.1->kubernetes>=28.1.0->chromadb) (0.5.1)\n",
            "Building wheels for collected packages: pypika\n",
            "  Building wheel for pypika (pyproject.toml) ... \u001b[?25l\u001b[?25hdone\n",
            "  Created wheel for pypika: filename=PyPika-0.48.9-py2.py3-none-any.whl size=53723 sha256=ff417f8dad3848ca5f2c55b026cb9aba66d642e539e7a5a52642e0cb61a478a1\n",
            "  Stored in directory: /root/.cache/pip/wheels/e1/26/51/d0bffb3d2fd82256676d7ad3003faea3bd6dddc9577af665f4\n",
            "Successfully built pypika\n",
            "Installing collected packages: pypika, monotonic, mmh3, websockets, uvloop, urllib3, typing-extensions, python-dotenv, pulsar-client, overrides, opentelemetry-util-http, opentelemetry-semantic-conventions, opentelemetry-proto, importlib-metadata, humanfriendly, httptools, h11, deprecated, chroma-hnswlib, bcrypt, backoff, watchfiles, uvicorn, starlette, opentelemetry-exporter-otlp-proto-common, opentelemetry-api, coloredlogs, asgiref, posthog, opentelemetry-sdk, opentelemetry-instrumentation, onnxruntime, fastapi, opentelemetry-instrumentation-asgi, opentelemetry-exporter-otlp-proto-grpc, kubernetes, opentelemetry-instrumentation-fastapi, chromadb\n",
            "  Attempting uninstall: urllib3\n",
            "    Found existing installation: urllib3 2.0.7\n",
            "    Uninstalling urllib3-2.0.7:\n",
            "      Successfully uninstalled urllib3-2.0.7\n",
            "  Attempting uninstall: typing-extensions\n",
            "    Found existing installation: typing_extensions 4.5.0\n",
            "    Uninstalling typing_extensions-4.5.0:\n",
            "      Successfully uninstalled typing_extensions-4.5.0\n",
            "  Attempting uninstall: importlib-metadata\n",
            "    Found existing installation: importlib-metadata 7.0.0\n",
            "    Uninstalling importlib-metadata-7.0.0:\n",
            "      Successfully uninstalled importlib-metadata-7.0.0\n",
            "\u001b[31mERROR: pip's dependency resolver does not currently take into account all the packages that are installed. This behaviour is the source of the following dependency conflicts.\n",
            "lida 0.0.10 requires kaleido, which is not installed.\n",
            "lida 0.0.10 requires python-multipart, which is not installed.\n",
            "tensorflow-probability 0.22.0 requires typing-extensions<4.6.0, but you have typing-extensions 4.9.0 which is incompatible.\u001b[0m\u001b[31m\n",
            "\u001b[0mSuccessfully installed asgiref-3.7.2 backoff-2.2.1 bcrypt-4.1.2 chroma-hnswlib-0.7.3 chromadb-0.4.20 coloredlogs-15.0.1 deprecated-1.2.14 fastapi-0.105.0 h11-0.14.0 httptools-0.6.1 humanfriendly-10.0 importlib-metadata-6.11.0 kubernetes-28.1.0 mmh3-4.0.1 monotonic-1.6 onnxruntime-1.16.3 opentelemetry-api-1.22.0 opentelemetry-exporter-otlp-proto-common-1.22.0 opentelemetry-exporter-otlp-proto-grpc-1.22.0 opentelemetry-instrumentation-0.43b0 opentelemetry-instrumentation-asgi-0.43b0 opentelemetry-instrumentation-fastapi-0.43b0 opentelemetry-proto-1.22.0 opentelemetry-sdk-1.22.0 opentelemetry-semantic-conventions-0.43b0 opentelemetry-util-http-0.43b0 overrides-7.4.0 posthog-3.1.0 pulsar-client-3.3.0 pypika-0.48.9 python-dotenv-1.0.0 starlette-0.27.0 typing-extensions-4.9.0 urllib3-1.26.18 uvicorn-0.24.0.post1 uvloop-0.19.0 watchfiles-0.21.0 websockets-12.0\n",
            "Requirement already satisfied: PyMuPDF in /usr/local/lib/python3.10/dist-packages (1.23.8)\n",
            "Requirement already satisfied: PyMuPDFb==1.23.7 in /usr/local/lib/python3.10/dist-packages (from PyMuPDF) (1.23.7)\n"
          ]
        }
      ],
      "source": [
        "!pip install -q -U google-generativeai\n",
        "!pip -q install langchain\n",
        "!pip install chromadb\n",
        "!pip install PyMuPDF"
      ]
    },
    {
      "cell_type": "code",
      "execution_count": null,
      "metadata": {
        "id": "ohOlBHo1qj9R"
      },
      "outputs": [],
      "source": [
        "from langchain import PromptTemplate\n",
        "from langchain.chains.summarize import load_summarize_chain\n",
        "from pathlib import Path as p\n",
        "from langchain.embeddings import GooglePalmEmbeddings\n",
        "from langchain.llms import GooglePalm\n",
        "from langchain.document_loaders.csv_loader import CSVLoader\n",
        "from langchain.text_splitter import CharacterTextSplitter\n",
        "from langchain.indexes import VectorstoreIndexCreator #vectorize db index with chromadb\n",
        "from langchain.vectorstores import Chroma\n",
        "\n",
        "import pandas as pd"
      ]
    },
    {
      "cell_type": "code",
      "execution_count": null,
      "metadata": {
        "id": "QujObE4T26VA"
      },
      "outputs": [],
      "source": [
        "import os\n",
        "# configure palm\n",
        "import google.generativeai as palm\n",
        "GOOGLE_API_KEY = #put your API here. [You can use env to store the api key]\n",
        "palm.configure(api_key=GOOGLE_API_KEY)"
      ]
    },
    {
      "cell_type": "code",
      "source": [
        "# I prefer to load the pdf files to one csv file\n",
        "import os\n",
        "import csv\n",
        "import fitz  # PyMuPDF\n",
        "\n",
        "def extract_pdf_content(pdf_path):\n",
        "    doc = fitz.open(pdf_path)\n",
        "    content = \"\"\n",
        "    for page_num in range(doc.page_count):\n",
        "        page = doc[page_num]\n",
        "        content += page.get_text()\n",
        "    doc.close()\n",
        "    return content\n",
        "\n",
        "def process_pdfs(input_folder, output_csv):\n",
        "    # Create or append to the CSV file\n",
        "    mode = 'w' if not os.path.exists(output_csv) else 'a'\n",
        "\n",
        "    with open(output_csv, mode, newline='', encoding='utf-8') as csvfile:\n",
        "        fieldnames = ['id', 'name', 'content']\n",
        "        writer = csv.DictWriter(csvfile, fieldnames=fieldnames)\n",
        "\n",
        "        # If the file is being created, write the header\n",
        "        if mode == 'w':\n",
        "            writer.writeheader()\n",
        "\n",
        "        # Iterate through PDF files in the input folder\n",
        "        for idx, pdf_file in enumerate(os.listdir(input_folder)):\n",
        "            if pdf_file.endswith(\".pdf\"):\n",
        "                pdf_path = os.path.join(input_folder, pdf_file)\n",
        "                content = extract_pdf_content(pdf_path)\n",
        "                #print(f\"id: {idx + 1}, name: {pdf_file}\")\n",
        "                writer.writerow({'id': idx + 1, 'name': pdf_file, 'content': content})\n",
        "\n",
        "\n",
        "input_folder_path = \"/content/docs\"\n",
        "output_csv_path = \"raw_data.csv\"\n",
        "process_pdfs(input_folder_path, output_csv_path)\n",
        "print(\"PDFs loaded into CSV successfully.\")\n"
      ],
      "metadata": {
        "id": "mBvbzr3Em_Wo",
        "outputId": "d578e695-6d14-4e7e-f857-f671674dfb04",
        "colab": {
          "base_uri": "https://localhost:8080/"
        }
      },
      "execution_count": 4,
      "outputs": [
        {
          "output_type": "stream",
          "name": "stdout",
          "text": [
            "PDFs loaded into CSV successfully.\n"
          ]
        }
      ]
    },
    {
      "cell_type": "code",
      "execution_count": null,
      "metadata": {
        "id": "kxvyDXJN6xjl"
      },
      "outputs": [],
      "source": [
        "#reading the raw data using langchain CSV loader\n",
        "loader = CSVLoader(file_path=\"./raw_data.csv\")\n",
        "documents = loader.load()"
      ]
    },
    {
      "cell_type": "code",
      "execution_count": null,
      "metadata": {
        "colab": {
          "base_uri": "https://localhost:8080/"
        },
        "id": "sdfH57QbEtqT",
        "outputId": "a1e33c57-31a5-4ad8-e1b8-915c4222d633"
      },
      "outputs": [
        {
          "output_type": "stream",
          "name": "stdout",
          "text": [
            "8\n",
            "# of words in the document = 63382\n"
          ]
        }
      ],
      "source": [
        "#see some content\n",
        "print(len(documents))\n",
        "print(f\"# of words in the document = {len(documents[0].page_content)}\")"
      ]
    },
    {
      "cell_type": "markdown",
      "metadata": {
        "id": "VwXl9dhmj9vy"
      },
      "source": [
        "#  Palm2 apis with langchain\n",
        "\n",
        "\n",
        "\n"
      ]
    },
    {
      "cell_type": "code",
      "execution_count": null,
      "metadata": {
        "id": "pI_Tm_hGpL2G"
      },
      "outputs": [],
      "source": [
        "llm = GooglePalm(google_api_key=GOOGLE_API_KEY)\n",
        "llm.temperature = 0.1"
      ]
    },
    {
      "cell_type": "markdown",
      "metadata": {
        "id": "VXbEtl_e79qf"
      },
      "source": [
        "## Summerise each book"
      ]
    },
    {
      "cell_type": "code",
      "execution_count": null,
      "metadata": {
        "id": "SPGxlZ_KZsbo"
      },
      "outputs": [],
      "source": [
        "# I'm gonna use refine method for chunking the pdfs content, as this method retains the context.\n",
        "\n",
        "\n",
        "# prepare the prompt template for text summerisaion\n",
        "question_prompt_template = \"\"\"\n",
        "                  Please provide a summary of the following text. the first chunk should recognise the document title, and a summary extracted from the introduction section.\n",
        "                  TEXT: {text}\n",
        "                  SUMMARY:\n",
        "                  \"\"\"\n",
        "question_prompt = PromptTemplate(\n",
        "    template=question_prompt_template, input_variables=[\"text\"]\n",
        ")\n",
        "refine_prompt_template = \"\"\"\n",
        "              Write a concise summary of the following text.\n",
        "              ```{text}```\n",
        "              SUMMARY:\n",
        "              \"\"\"\n",
        "\n",
        "refine_prompt = PromptTemplate(\n",
        "    template=refine_prompt_template, input_variables=[\"text\"]\n",
        ")\n",
        "refine_chain = load_summarize_chain(\n",
        "    llm,\n",
        "    chain_type=\"refine\",\n",
        "    question_prompt=question_prompt,\n",
        "    refine_prompt=refine_prompt,\n",
        "    return_intermediate_steps=True,\n",
        ")\n",
        "text_splitter = CharacterTextSplitter(\n",
        "    separator = \"\\n\",\n",
        "    chunk_size = 5000,\n",
        "    chunk_overlap  = 100)\n"
      ]
    },
    {
      "cell_type": "code",
      "execution_count": null,
      "metadata": {
        "id": "jJfpQdH0GpEk",
        "colab": {
          "base_uri": "https://localhost:8080/",
          "height": 293
        },
        "outputId": "bdee201b-7c37-4846-d1bb-3942a6df6121"
      },
      "outputs": [
        {
          "output_type": "execute_result",
          "data": {
            "text/plain": [
              "                                     concise_summary  \\\n",
              "0  The key challenges for Paraguay include reduci...   \n",
              "1  This document presents UNDP's programme strate...   \n",
              "2  UNDP's proposed programme for Iraq focuses on ...   \n",
              "3  This document presents the results and resourc...   \n",
              "4  This document outlines the key performance ind...   \n",
              "\n",
              "                                            doc       file_name  \\\n",
              "0  {'source': './raw_data_light.csv', 'row': 0}  raw_data_light   \n",
              "1  {'source': './raw_data_light.csv', 'row': 4}  raw_data_light   \n",
              "2  {'source': './raw_data_light.csv', 'row': 4}  raw_data_light   \n",
              "3  {'source': './raw_data_light.csv', 'row': 4}  raw_data_light   \n",
              "4  {'source': './raw_data_light.csv', 'row': 4}  raw_data_light   \n",
              "\n",
              "                                              chunks  \n",
              "0  : 0\\nCPD_ID: pry_2\\ntext: United Nations      ...  \n",
              "1  benefited approximately 15,000 individuals13. ...  \n",
              "2  which transfers the powers of eight ministries...  \n",
              "3  to cost-share and provide funding to UNDP-impl...  \n",
              "4  institutions as more transparent     implement...  "
            ],
            "text/html": [
              "\n",
              "  <div id=\"df-117e5d74-c632-4a67-8ead-03b91a03864e\" class=\"colab-df-container\">\n",
              "    <div>\n",
              "<style scoped>\n",
              "    .dataframe tbody tr th:only-of-type {\n",
              "        vertical-align: middle;\n",
              "    }\n",
              "\n",
              "    .dataframe tbody tr th {\n",
              "        vertical-align: top;\n",
              "    }\n",
              "\n",
              "    .dataframe thead th {\n",
              "        text-align: right;\n",
              "    }\n",
              "</style>\n",
              "<table border=\"1\" class=\"dataframe\">\n",
              "  <thead>\n",
              "    <tr style=\"text-align: right;\">\n",
              "      <th></th>\n",
              "      <th>concise_summary</th>\n",
              "      <th>doc</th>\n",
              "      <th>file_name</th>\n",
              "      <th>chunks</th>\n",
              "    </tr>\n",
              "  </thead>\n",
              "  <tbody>\n",
              "    <tr>\n",
              "      <th>0</th>\n",
              "      <td>The key challenges for Paraguay include reduci...</td>\n",
              "      <td>{'source': './raw_data_light.csv', 'row': 0}</td>\n",
              "      <td>raw_data_light</td>\n",
              "      <td>: 0\\nCPD_ID: pry_2\\ntext: United Nations      ...</td>\n",
              "    </tr>\n",
              "    <tr>\n",
              "      <th>1</th>\n",
              "      <td>This document presents UNDP's programme strate...</td>\n",
              "      <td>{'source': './raw_data_light.csv', 'row': 4}</td>\n",
              "      <td>raw_data_light</td>\n",
              "      <td>benefited approximately 15,000 individuals13. ...</td>\n",
              "    </tr>\n",
              "    <tr>\n",
              "      <th>2</th>\n",
              "      <td>UNDP's proposed programme for Iraq focuses on ...</td>\n",
              "      <td>{'source': './raw_data_light.csv', 'row': 4}</td>\n",
              "      <td>raw_data_light</td>\n",
              "      <td>which transfers the powers of eight ministries...</td>\n",
              "    </tr>\n",
              "    <tr>\n",
              "      <th>3</th>\n",
              "      <td>This document presents the results and resourc...</td>\n",
              "      <td>{'source': './raw_data_light.csv', 'row': 4}</td>\n",
              "      <td>raw_data_light</td>\n",
              "      <td>to cost-share and provide funding to UNDP-impl...</td>\n",
              "    </tr>\n",
              "    <tr>\n",
              "      <th>4</th>\n",
              "      <td>This document outlines the key performance ind...</td>\n",
              "      <td>{'source': './raw_data_light.csv', 'row': 4}</td>\n",
              "      <td>raw_data_light</td>\n",
              "      <td>institutions as more transparent     implement...</td>\n",
              "    </tr>\n",
              "  </tbody>\n",
              "</table>\n",
              "</div>\n",
              "    <div class=\"colab-df-buttons\">\n",
              "\n",
              "  <div class=\"colab-df-container\">\n",
              "    <button class=\"colab-df-convert\" onclick=\"convertToInteractive('df-117e5d74-c632-4a67-8ead-03b91a03864e')\"\n",
              "            title=\"Convert this dataframe to an interactive table.\"\n",
              "            style=\"display:none;\">\n",
              "\n",
              "  <svg xmlns=\"http://www.w3.org/2000/svg\" height=\"24px\" viewBox=\"0 -960 960 960\">\n",
              "    <path d=\"M120-120v-720h720v720H120Zm60-500h600v-160H180v160Zm220 220h160v-160H400v160Zm0 220h160v-160H400v160ZM180-400h160v-160H180v160Zm440 0h160v-160H620v160ZM180-180h160v-160H180v160Zm440 0h160v-160H620v160Z\"/>\n",
              "  </svg>\n",
              "    </button>\n",
              "\n",
              "  <style>\n",
              "    .colab-df-container {\n",
              "      display:flex;\n",
              "      gap: 12px;\n",
              "    }\n",
              "\n",
              "    .colab-df-convert {\n",
              "      background-color: #E8F0FE;\n",
              "      border: none;\n",
              "      border-radius: 50%;\n",
              "      cursor: pointer;\n",
              "      display: none;\n",
              "      fill: #1967D2;\n",
              "      height: 32px;\n",
              "      padding: 0 0 0 0;\n",
              "      width: 32px;\n",
              "    }\n",
              "\n",
              "    .colab-df-convert:hover {\n",
              "      background-color: #E2EBFA;\n",
              "      box-shadow: 0px 1px 2px rgba(60, 64, 67, 0.3), 0px 1px 3px 1px rgba(60, 64, 67, 0.15);\n",
              "      fill: #174EA6;\n",
              "    }\n",
              "\n",
              "    .colab-df-buttons div {\n",
              "      margin-bottom: 4px;\n",
              "    }\n",
              "\n",
              "    [theme=dark] .colab-df-convert {\n",
              "      background-color: #3B4455;\n",
              "      fill: #D2E3FC;\n",
              "    }\n",
              "\n",
              "    [theme=dark] .colab-df-convert:hover {\n",
              "      background-color: #434B5C;\n",
              "      box-shadow: 0px 1px 3px 1px rgba(0, 0, 0, 0.15);\n",
              "      filter: drop-shadow(0px 1px 2px rgba(0, 0, 0, 0.3));\n",
              "      fill: #FFFFFF;\n",
              "    }\n",
              "  </style>\n",
              "\n",
              "    <script>\n",
              "      const buttonEl =\n",
              "        document.querySelector('#df-117e5d74-c632-4a67-8ead-03b91a03864e button.colab-df-convert');\n",
              "      buttonEl.style.display =\n",
              "        google.colab.kernel.accessAllowed ? 'block' : 'none';\n",
              "\n",
              "      async function convertToInteractive(key) {\n",
              "        const element = document.querySelector('#df-117e5d74-c632-4a67-8ead-03b91a03864e');\n",
              "        const dataTable =\n",
              "          await google.colab.kernel.invokeFunction('convertToInteractive',\n",
              "                                                    [key], {});\n",
              "        if (!dataTable) return;\n",
              "\n",
              "        const docLinkHtml = 'Like what you see? Visit the ' +\n",
              "          '<a target=\"_blank\" href=https://colab.research.google.com/notebooks/data_table.ipynb>data table notebook</a>'\n",
              "          + ' to learn more about interactive tables.';\n",
              "        element.innerHTML = '';\n",
              "        dataTable['output_type'] = 'display_data';\n",
              "        await google.colab.output.renderOutput(dataTable, element);\n",
              "        const docLink = document.createElement('div');\n",
              "        docLink.innerHTML = docLinkHtml;\n",
              "        element.appendChild(docLink);\n",
              "      }\n",
              "    </script>\n",
              "  </div>\n",
              "\n",
              "\n",
              "<div id=\"df-8dd62646-5781-42ce-a54f-5ca4b74092e3\">\n",
              "  <button class=\"colab-df-quickchart\" onclick=\"quickchart('df-8dd62646-5781-42ce-a54f-5ca4b74092e3')\"\n",
              "            title=\"Suggest charts\"\n",
              "            style=\"display:none;\">\n",
              "\n",
              "<svg xmlns=\"http://www.w3.org/2000/svg\" height=\"24px\"viewBox=\"0 0 24 24\"\n",
              "     width=\"24px\">\n",
              "    <g>\n",
              "        <path d=\"M19 3H5c-1.1 0-2 .9-2 2v14c0 1.1.9 2 2 2h14c1.1 0 2-.9 2-2V5c0-1.1-.9-2-2-2zM9 17H7v-7h2v7zm4 0h-2V7h2v10zm4 0h-2v-4h2v4z\"/>\n",
              "    </g>\n",
              "</svg>\n",
              "  </button>\n",
              "\n",
              "<style>\n",
              "  .colab-df-quickchart {\n",
              "      --bg-color: #E8F0FE;\n",
              "      --fill-color: #1967D2;\n",
              "      --hover-bg-color: #E2EBFA;\n",
              "      --hover-fill-color: #174EA6;\n",
              "      --disabled-fill-color: #AAA;\n",
              "      --disabled-bg-color: #DDD;\n",
              "  }\n",
              "\n",
              "  [theme=dark] .colab-df-quickchart {\n",
              "      --bg-color: #3B4455;\n",
              "      --fill-color: #D2E3FC;\n",
              "      --hover-bg-color: #434B5C;\n",
              "      --hover-fill-color: #FFFFFF;\n",
              "      --disabled-bg-color: #3B4455;\n",
              "      --disabled-fill-color: #666;\n",
              "  }\n",
              "\n",
              "  .colab-df-quickchart {\n",
              "    background-color: var(--bg-color);\n",
              "    border: none;\n",
              "    border-radius: 50%;\n",
              "    cursor: pointer;\n",
              "    display: none;\n",
              "    fill: var(--fill-color);\n",
              "    height: 32px;\n",
              "    padding: 0;\n",
              "    width: 32px;\n",
              "  }\n",
              "\n",
              "  .colab-df-quickchart:hover {\n",
              "    background-color: var(--hover-bg-color);\n",
              "    box-shadow: 0 1px 2px rgba(60, 64, 67, 0.3), 0 1px 3px 1px rgba(60, 64, 67, 0.15);\n",
              "    fill: var(--button-hover-fill-color);\n",
              "  }\n",
              "\n",
              "  .colab-df-quickchart-complete:disabled,\n",
              "  .colab-df-quickchart-complete:disabled:hover {\n",
              "    background-color: var(--disabled-bg-color);\n",
              "    fill: var(--disabled-fill-color);\n",
              "    box-shadow: none;\n",
              "  }\n",
              "\n",
              "  .colab-df-spinner {\n",
              "    border: 2px solid var(--fill-color);\n",
              "    border-color: transparent;\n",
              "    border-bottom-color: var(--fill-color);\n",
              "    animation:\n",
              "      spin 1s steps(1) infinite;\n",
              "  }\n",
              "\n",
              "  @keyframes spin {\n",
              "    0% {\n",
              "      border-color: transparent;\n",
              "      border-bottom-color: var(--fill-color);\n",
              "      border-left-color: var(--fill-color);\n",
              "    }\n",
              "    20% {\n",
              "      border-color: transparent;\n",
              "      border-left-color: var(--fill-color);\n",
              "      border-top-color: var(--fill-color);\n",
              "    }\n",
              "    30% {\n",
              "      border-color: transparent;\n",
              "      border-left-color: var(--fill-color);\n",
              "      border-top-color: var(--fill-color);\n",
              "      border-right-color: var(--fill-color);\n",
              "    }\n",
              "    40% {\n",
              "      border-color: transparent;\n",
              "      border-right-color: var(--fill-color);\n",
              "      border-top-color: var(--fill-color);\n",
              "    }\n",
              "    60% {\n",
              "      border-color: transparent;\n",
              "      border-right-color: var(--fill-color);\n",
              "    }\n",
              "    80% {\n",
              "      border-color: transparent;\n",
              "      border-right-color: var(--fill-color);\n",
              "      border-bottom-color: var(--fill-color);\n",
              "    }\n",
              "    90% {\n",
              "      border-color: transparent;\n",
              "      border-bottom-color: var(--fill-color);\n",
              "    }\n",
              "  }\n",
              "</style>\n",
              "\n",
              "  <script>\n",
              "    async function quickchart(key) {\n",
              "      const quickchartButtonEl =\n",
              "        document.querySelector('#' + key + ' button');\n",
              "      quickchartButtonEl.disabled = true;  // To prevent multiple clicks.\n",
              "      quickchartButtonEl.classList.add('colab-df-spinner');\n",
              "      try {\n",
              "        const charts = await google.colab.kernel.invokeFunction(\n",
              "            'suggestCharts', [key], {});\n",
              "      } catch (error) {\n",
              "        console.error('Error during call to suggestCharts:', error);\n",
              "      }\n",
              "      quickchartButtonEl.classList.remove('colab-df-spinner');\n",
              "      quickchartButtonEl.classList.add('colab-df-quickchart-complete');\n",
              "    }\n",
              "    (() => {\n",
              "      let quickchartButtonEl =\n",
              "        document.querySelector('#df-8dd62646-5781-42ce-a54f-5ca4b74092e3 button');\n",
              "      quickchartButtonEl.style.display =\n",
              "        google.colab.kernel.accessAllowed ? 'block' : 'none';\n",
              "    })();\n",
              "  </script>\n",
              "</div>\n",
              "    </div>\n",
              "  </div>\n"
            ]
          },
          "metadata": {},
          "execution_count": 8
        }
      ],
      "source": [
        "# Fixed-size chunking (note: content-aware could be another chunking option)\n",
        "try:\n",
        "    document_chunks = document_chunks = text_splitter.split_documents(documents)\n",
        "    #print(f\"Number chunks {len(document_chunks)}\")\n",
        "    refine_outputs = refine_chain({\"input_documents\": document_chunks})\n",
        "except IndexError:\n",
        "    gotdata = 'null'\n"
      ]
    },
    {
      "cell_type": "code",
      "source": [
        "#showing chunk summeries\n",
        "final_refine_data = []\n",
        "for doc, out in zip(refine_outputs[\"input_documents\"], refine_outputs[\"intermediate_steps\"]):\n",
        "        output = {}\n",
        "        output[\"doc\"] = doc.metadata['row']\n",
        "        output[\"file_name\"] = p(doc.metadata[\"source\"]).stem\n",
        "        output[\"chunks\"] = doc.page_content.strip()\n",
        "        output[\"concise_summary\"] = out.strip()\n",
        "        final_refine_data.append(output)\n",
        "\n",
        "pdf_refine_summary  = pd.DataFrame.from_dict(final_refine_data)\n",
        "pdf_refine_summary  = pdf_refine_summary .sort_values(\n",
        "    by=[\"file_name\"]\n",
        ")  # sorting the dataframe by filename and page_number\n",
        "pdf_refine_summary .reset_index(inplace=True, drop=True)\n",
        "pdf_refine_summary .head(10)"
      ],
      "metadata": {
        "colab": {
          "base_uri": "https://localhost:8080/",
          "height": 363
        },
        "id": "hleNwFU4iQ9d",
        "outputId": "8d1a2317-7ac7-436f-ef20-2c8ed720c84e"
      },
      "execution_count": null,
      "outputs": [
        {
          "output_type": "execute_result",
          "data": {
            "text/plain": [
              "   doc       file_name                                             chunks  \\\n",
              "0    0  raw_data_light  : 0\\nCPD_ID: pry_2\\ntext: United Nations      ...   \n",
              "1    4  raw_data_light  benefited approximately 15,000 individuals13. ...   \n",
              "2    4  raw_data_light  which transfers the powers of eight ministries...   \n",
              "3    4  raw_data_light  to cost-share and provide funding to UNDP-impl...   \n",
              "4    4  raw_data_light  institutions as more transparent     implement...   \n",
              "5    4  raw_data_light  Target: Yes                                   ...   \n",
              "6    4  raw_data_light  DP/DCP/IRQ/2\\n                                ...   \n",
              "7    5  raw_data_light  : 5\\nCPD_ID: sle_1\\ntext: United Nations      ...   \n",
              "8    5  raw_data_light  hindered effective benchmarking and tracking o...   \n",
              "9    4  raw_data_light  : 4\\nCPD_ID: irq_2\\ntext: United Nations      ...   \n",
              "\n",
              "                                     concise_summary  \n",
              "0  The key challenges for Paraguay include reduci...  \n",
              "1  This document presents UNDP's programme strate...  \n",
              "2  UNDP's proposed programme for Iraq focuses on ...  \n",
              "3  This document presents the results and resourc...  \n",
              "4  This document outlines the key performance ind...  \n",
              "5  This document outlines the results and resourc...  \n",
              "6  This document outlines the results and resourc...  \n",
              "7  The CPD 2008-2010 for Sierra Leone is based on...  \n",
              "8  The Government of Sierra Leone has developed a...  \n",
              "9  This document presents the country programme d...  "
            ],
            "text/html": [
              "\n",
              "  <div id=\"df-52e8a080-1e6d-4ada-b0f4-7c6e7510d4cc\" class=\"colab-df-container\">\n",
              "    <div>\n",
              "<style scoped>\n",
              "    .dataframe tbody tr th:only-of-type {\n",
              "        vertical-align: middle;\n",
              "    }\n",
              "\n",
              "    .dataframe tbody tr th {\n",
              "        vertical-align: top;\n",
              "    }\n",
              "\n",
              "    .dataframe thead th {\n",
              "        text-align: right;\n",
              "    }\n",
              "</style>\n",
              "<table border=\"1\" class=\"dataframe\">\n",
              "  <thead>\n",
              "    <tr style=\"text-align: right;\">\n",
              "      <th></th>\n",
              "      <th>doc</th>\n",
              "      <th>file_name</th>\n",
              "      <th>chunks</th>\n",
              "      <th>concise_summary</th>\n",
              "    </tr>\n",
              "  </thead>\n",
              "  <tbody>\n",
              "    <tr>\n",
              "      <th>0</th>\n",
              "      <td>0</td>\n",
              "      <td>raw_data_light</td>\n",
              "      <td>: 0\\nCPD_ID: pry_2\\ntext: United Nations      ...</td>\n",
              "      <td>The key challenges for Paraguay include reduci...</td>\n",
              "    </tr>\n",
              "    <tr>\n",
              "      <th>1</th>\n",
              "      <td>4</td>\n",
              "      <td>raw_data_light</td>\n",
              "      <td>benefited approximately 15,000 individuals13. ...</td>\n",
              "      <td>This document presents UNDP's programme strate...</td>\n",
              "    </tr>\n",
              "    <tr>\n",
              "      <th>2</th>\n",
              "      <td>4</td>\n",
              "      <td>raw_data_light</td>\n",
              "      <td>which transfers the powers of eight ministries...</td>\n",
              "      <td>UNDP's proposed programme for Iraq focuses on ...</td>\n",
              "    </tr>\n",
              "    <tr>\n",
              "      <th>3</th>\n",
              "      <td>4</td>\n",
              "      <td>raw_data_light</td>\n",
              "      <td>to cost-share and provide funding to UNDP-impl...</td>\n",
              "      <td>This document presents the results and resourc...</td>\n",
              "    </tr>\n",
              "    <tr>\n",
              "      <th>4</th>\n",
              "      <td>4</td>\n",
              "      <td>raw_data_light</td>\n",
              "      <td>institutions as more transparent     implement...</td>\n",
              "      <td>This document outlines the key performance ind...</td>\n",
              "    </tr>\n",
              "    <tr>\n",
              "      <th>5</th>\n",
              "      <td>4</td>\n",
              "      <td>raw_data_light</td>\n",
              "      <td>Target: Yes                                   ...</td>\n",
              "      <td>This document outlines the results and resourc...</td>\n",
              "    </tr>\n",
              "    <tr>\n",
              "      <th>6</th>\n",
              "      <td>4</td>\n",
              "      <td>raw_data_light</td>\n",
              "      <td>DP/DCP/IRQ/2\\n                                ...</td>\n",
              "      <td>This document outlines the results and resourc...</td>\n",
              "    </tr>\n",
              "    <tr>\n",
              "      <th>7</th>\n",
              "      <td>5</td>\n",
              "      <td>raw_data_light</td>\n",
              "      <td>: 5\\nCPD_ID: sle_1\\ntext: United Nations      ...</td>\n",
              "      <td>The CPD 2008-2010 for Sierra Leone is based on...</td>\n",
              "    </tr>\n",
              "    <tr>\n",
              "      <th>8</th>\n",
              "      <td>5</td>\n",
              "      <td>raw_data_light</td>\n",
              "      <td>hindered effective benchmarking and tracking o...</td>\n",
              "      <td>The Government of Sierra Leone has developed a...</td>\n",
              "    </tr>\n",
              "    <tr>\n",
              "      <th>9</th>\n",
              "      <td>4</td>\n",
              "      <td>raw_data_light</td>\n",
              "      <td>: 4\\nCPD_ID: irq_2\\ntext: United Nations      ...</td>\n",
              "      <td>This document presents the country programme d...</td>\n",
              "    </tr>\n",
              "  </tbody>\n",
              "</table>\n",
              "</div>\n",
              "    <div class=\"colab-df-buttons\">\n",
              "\n",
              "  <div class=\"colab-df-container\">\n",
              "    <button class=\"colab-df-convert\" onclick=\"convertToInteractive('df-52e8a080-1e6d-4ada-b0f4-7c6e7510d4cc')\"\n",
              "            title=\"Convert this dataframe to an interactive table.\"\n",
              "            style=\"display:none;\">\n",
              "\n",
              "  <svg xmlns=\"http://www.w3.org/2000/svg\" height=\"24px\" viewBox=\"0 -960 960 960\">\n",
              "    <path d=\"M120-120v-720h720v720H120Zm60-500h600v-160H180v160Zm220 220h160v-160H400v160Zm0 220h160v-160H400v160ZM180-400h160v-160H180v160Zm440 0h160v-160H620v160ZM180-180h160v-160H180v160Zm440 0h160v-160H620v160Z\"/>\n",
              "  </svg>\n",
              "    </button>\n",
              "\n",
              "  <style>\n",
              "    .colab-df-container {\n",
              "      display:flex;\n",
              "      gap: 12px;\n",
              "    }\n",
              "\n",
              "    .colab-df-convert {\n",
              "      background-color: #E8F0FE;\n",
              "      border: none;\n",
              "      border-radius: 50%;\n",
              "      cursor: pointer;\n",
              "      display: none;\n",
              "      fill: #1967D2;\n",
              "      height: 32px;\n",
              "      padding: 0 0 0 0;\n",
              "      width: 32px;\n",
              "    }\n",
              "\n",
              "    .colab-df-convert:hover {\n",
              "      background-color: #E2EBFA;\n",
              "      box-shadow: 0px 1px 2px rgba(60, 64, 67, 0.3), 0px 1px 3px 1px rgba(60, 64, 67, 0.15);\n",
              "      fill: #174EA6;\n",
              "    }\n",
              "\n",
              "    .colab-df-buttons div {\n",
              "      margin-bottom: 4px;\n",
              "    }\n",
              "\n",
              "    [theme=dark] .colab-df-convert {\n",
              "      background-color: #3B4455;\n",
              "      fill: #D2E3FC;\n",
              "    }\n",
              "\n",
              "    [theme=dark] .colab-df-convert:hover {\n",
              "      background-color: #434B5C;\n",
              "      box-shadow: 0px 1px 3px 1px rgba(0, 0, 0, 0.15);\n",
              "      filter: drop-shadow(0px 1px 2px rgba(0, 0, 0, 0.3));\n",
              "      fill: #FFFFFF;\n",
              "    }\n",
              "  </style>\n",
              "\n",
              "    <script>\n",
              "      const buttonEl =\n",
              "        document.querySelector('#df-52e8a080-1e6d-4ada-b0f4-7c6e7510d4cc button.colab-df-convert');\n",
              "      buttonEl.style.display =\n",
              "        google.colab.kernel.accessAllowed ? 'block' : 'none';\n",
              "\n",
              "      async function convertToInteractive(key) {\n",
              "        const element = document.querySelector('#df-52e8a080-1e6d-4ada-b0f4-7c6e7510d4cc');\n",
              "        const dataTable =\n",
              "          await google.colab.kernel.invokeFunction('convertToInteractive',\n",
              "                                                    [key], {});\n",
              "        if (!dataTable) return;\n",
              "\n",
              "        const docLinkHtml = 'Like what you see? Visit the ' +\n",
              "          '<a target=\"_blank\" href=https://colab.research.google.com/notebooks/data_table.ipynb>data table notebook</a>'\n",
              "          + ' to learn more about interactive tables.';\n",
              "        element.innerHTML = '';\n",
              "        dataTable['output_type'] = 'display_data';\n",
              "        await google.colab.output.renderOutput(dataTable, element);\n",
              "        const docLink = document.createElement('div');\n",
              "        docLink.innerHTML = docLinkHtml;\n",
              "        element.appendChild(docLink);\n",
              "      }\n",
              "    </script>\n",
              "  </div>\n",
              "\n",
              "\n",
              "<div id=\"df-bc38eca5-7016-436b-8541-c1a09a0b5784\">\n",
              "  <button class=\"colab-df-quickchart\" onclick=\"quickchart('df-bc38eca5-7016-436b-8541-c1a09a0b5784')\"\n",
              "            title=\"Suggest charts\"\n",
              "            style=\"display:none;\">\n",
              "\n",
              "<svg xmlns=\"http://www.w3.org/2000/svg\" height=\"24px\"viewBox=\"0 0 24 24\"\n",
              "     width=\"24px\">\n",
              "    <g>\n",
              "        <path d=\"M19 3H5c-1.1 0-2 .9-2 2v14c0 1.1.9 2 2 2h14c1.1 0 2-.9 2-2V5c0-1.1-.9-2-2-2zM9 17H7v-7h2v7zm4 0h-2V7h2v10zm4 0h-2v-4h2v4z\"/>\n",
              "    </g>\n",
              "</svg>\n",
              "  </button>\n",
              "\n",
              "<style>\n",
              "  .colab-df-quickchart {\n",
              "      --bg-color: #E8F0FE;\n",
              "      --fill-color: #1967D2;\n",
              "      --hover-bg-color: #E2EBFA;\n",
              "      --hover-fill-color: #174EA6;\n",
              "      --disabled-fill-color: #AAA;\n",
              "      --disabled-bg-color: #DDD;\n",
              "  }\n",
              "\n",
              "  [theme=dark] .colab-df-quickchart {\n",
              "      --bg-color: #3B4455;\n",
              "      --fill-color: #D2E3FC;\n",
              "      --hover-bg-color: #434B5C;\n",
              "      --hover-fill-color: #FFFFFF;\n",
              "      --disabled-bg-color: #3B4455;\n",
              "      --disabled-fill-color: #666;\n",
              "  }\n",
              "\n",
              "  .colab-df-quickchart {\n",
              "    background-color: var(--bg-color);\n",
              "    border: none;\n",
              "    border-radius: 50%;\n",
              "    cursor: pointer;\n",
              "    display: none;\n",
              "    fill: var(--fill-color);\n",
              "    height: 32px;\n",
              "    padding: 0;\n",
              "    width: 32px;\n",
              "  }\n",
              "\n",
              "  .colab-df-quickchart:hover {\n",
              "    background-color: var(--hover-bg-color);\n",
              "    box-shadow: 0 1px 2px rgba(60, 64, 67, 0.3), 0 1px 3px 1px rgba(60, 64, 67, 0.15);\n",
              "    fill: var(--button-hover-fill-color);\n",
              "  }\n",
              "\n",
              "  .colab-df-quickchart-complete:disabled,\n",
              "  .colab-df-quickchart-complete:disabled:hover {\n",
              "    background-color: var(--disabled-bg-color);\n",
              "    fill: var(--disabled-fill-color);\n",
              "    box-shadow: none;\n",
              "  }\n",
              "\n",
              "  .colab-df-spinner {\n",
              "    border: 2px solid var(--fill-color);\n",
              "    border-color: transparent;\n",
              "    border-bottom-color: var(--fill-color);\n",
              "    animation:\n",
              "      spin 1s steps(1) infinite;\n",
              "  }\n",
              "\n",
              "  @keyframes spin {\n",
              "    0% {\n",
              "      border-color: transparent;\n",
              "      border-bottom-color: var(--fill-color);\n",
              "      border-left-color: var(--fill-color);\n",
              "    }\n",
              "    20% {\n",
              "      border-color: transparent;\n",
              "      border-left-color: var(--fill-color);\n",
              "      border-top-color: var(--fill-color);\n",
              "    }\n",
              "    30% {\n",
              "      border-color: transparent;\n",
              "      border-left-color: var(--fill-color);\n",
              "      border-top-color: var(--fill-color);\n",
              "      border-right-color: var(--fill-color);\n",
              "    }\n",
              "    40% {\n",
              "      border-color: transparent;\n",
              "      border-right-color: var(--fill-color);\n",
              "      border-top-color: var(--fill-color);\n",
              "    }\n",
              "    60% {\n",
              "      border-color: transparent;\n",
              "      border-right-color: var(--fill-color);\n",
              "    }\n",
              "    80% {\n",
              "      border-color: transparent;\n",
              "      border-right-color: var(--fill-color);\n",
              "      border-bottom-color: var(--fill-color);\n",
              "    }\n",
              "    90% {\n",
              "      border-color: transparent;\n",
              "      border-bottom-color: var(--fill-color);\n",
              "    }\n",
              "  }\n",
              "</style>\n",
              "\n",
              "  <script>\n",
              "    async function quickchart(key) {\n",
              "      const quickchartButtonEl =\n",
              "        document.querySelector('#' + key + ' button');\n",
              "      quickchartButtonEl.disabled = true;  // To prevent multiple clicks.\n",
              "      quickchartButtonEl.classList.add('colab-df-spinner');\n",
              "      try {\n",
              "        const charts = await google.colab.kernel.invokeFunction(\n",
              "            'suggestCharts', [key], {});\n",
              "      } catch (error) {\n",
              "        console.error('Error during call to suggestCharts:', error);\n",
              "      }\n",
              "      quickchartButtonEl.classList.remove('colab-df-spinner');\n",
              "      quickchartButtonEl.classList.add('colab-df-quickchart-complete');\n",
              "    }\n",
              "    (() => {\n",
              "      let quickchartButtonEl =\n",
              "        document.querySelector('#df-bc38eca5-7016-436b-8541-c1a09a0b5784 button');\n",
              "      quickchartButtonEl.style.display =\n",
              "        google.colab.kernel.accessAllowed ? 'block' : 'none';\n",
              "    })();\n",
              "  </script>\n",
              "</div>\n",
              "    </div>\n",
              "  </div>\n"
            ]
          },
          "metadata": {},
          "execution_count": 15
        }
      ]
    },
    {
      "cell_type": "code",
      "source": [
        "#showing a summary for each book\n",
        "summeries = pdf_refine_summary.groupby('doc')['concise_summary'].agg(lambda x: '\\n'.join(x))\n",
        "\n",
        "\n",
        "# rephrase & improve the context. start by this documents ....\n",
        "\n",
        "# Print the merged DataFrame\n",
        "print(summeries.head(5))\n",
        "summeries.to_csv(\"summaries.csv\", index=True)"
      ],
      "metadata": {
        "colab": {
          "base_uri": "https://localhost:8080/"
        },
        "id": "xHNpiY5OnSWP",
        "outputId": "7b13ec3f-111d-4a12-add2-d29e71500e56"
      },
      "execution_count": null,
      "outputs": [
        {
          "output_type": "stream",
          "name": "stdout",
          "text": [
            "doc\n",
            "0    The key challenges for Paraguay include reduci...\n",
            "1    Ghana's development challenges are: persistent...\n",
            "2    This is a document about the development of Be...\n",
            "3    4 key areas for Cambodia's development plan: r...\n",
            "4    This document presents UNDP's programme strate...\n",
            "Name: concise_summary, dtype: object\n"
          ]
        }
      ]
    },
    {
      "cell_type": "markdown",
      "metadata": {
        "id": "mWKt8uGpOBIq"
      },
      "source": [
        "## Q&A text books"
      ]
    },
    {
      "cell_type": "code",
      "execution_count": null,
      "metadata": {
        "id": "0WmU2uh6PgBz"
      },
      "outputs": [],
      "source": [
        "from langchain.document_loaders.csv_loader import CSVLoader\n",
        "loader = CSVLoader(file_path=\"./raw_data.csv\")\n",
        "pdfs = loader.load()"
      ]
    },
    {
      "cell_type": "code",
      "execution_count": null,
      "metadata": {
        "colab": {
          "base_uri": "https://localhost:8080/"
        },
        "id": "asLOmVqrQIJU",
        "outputId": "8da3fa1b-028a-472e-fc27-1b19ba1c9b4a"
      },
      "outputs": [
        {
          "output_type": "stream",
          "name": "stdout",
          "text": [
            "Number documents 369\n",
            "Number chunks 4098\n"
          ]
        }
      ],
      "source": [
        "from langchain.text_splitter import CharacterTextSplitter\n",
        "\n",
        "text_splitter = CharacterTextSplitter(\n",
        "    separator = \"\\n\",\n",
        "    chunk_size = 5000,\n",
        "    chunk_overlap  = 100)\n",
        "\n",
        "pdfs_chunks = text_splitter.split_documents(pdfs)\n",
        "\n",
        "print(f\"Number documents {len(pdfs)}\")\n",
        "print(f\"Number chunks {len(pdfs_chunks)}\")\n",
        "\n",
        "pdfs_chunks__=[f\"Context: {chunk.page_content} Source: {chunk.metadata['source']}\" for chunk in pdfs_chunks]\n"
      ]
    },
    {
      "cell_type": "code",
      "execution_count": null,
      "metadata": {
        "colab": {
          "base_uri": "https://localhost:8080/"
        },
        "id": "jTxiCL-0nYih",
        "outputId": "b08e3682-31cd-44e5-bd0e-e0a37c24a6dc"
      },
      "outputs": [
        {
          "name": "stdout",
          "output_type": "stream",
          "text": [
            "page_content=\": 0\\nCPD_ID: pry_2\\ntext: United Nations                                                                                                         DP/DCP/PRY/2\\n               Executive Board of the                                                                    Distr.: General\\n               United Nations Development                                                                15 July 2014\\n               Programme, the United Nations                                                             Original: English\\n               Population Fund and the\\n               United Nations Office for\\n               Project Services\\nSecond regular session 2014\\n2 to 5 September 2014, New York\\nItem 4 of the provisional agenda\\nCountry programmes and related matters\\n               Country programme document for the Republic of Paraguay\\n               (2015-2019)\\nContents\\n                                                                                                                                                           Page\\n            I. Programme rationale . . . . . . . . . . . . . . . . . . . . . . . . . . . . . . . . . . . . . . . . . . . . . . . . . . . . . . . . . . . .    2\\n           II. Programme priorities and partnerships . . . . . . . . . . . . . . . . . . . . . . . . . . . . . . . . . . . . . . . . . . . . .                4\\n         III.  Programme and risk management . . . . . . . . . . . . . . . . . . . . . . . . . . . . . . . . . . . . . . . . . . . . . . . . .                6\\n         IV.   Monitoring and evaluation . . . . . . . . . . . . . . . . . . . . . . . . . . . . . . . . . . . . . . . . . . . . . . . . . . . . . . .        6\\n      Annex\\n               Results and resources framework for the Republic of Paraguay (2015 -2019) . . . . . . . . . . . . . .                                          8\\n14-57594 (E)    240714\\n*1457594*\\n\\n\\nDP/DCP/PRY/2\\n     I. Programme rationale\\n          1. Since its return to democracy in 1989, Paraguay has made efforts to strengthen its political institutions\\n          and public administration. On average, the annual growth rate of its gross domestic product (GDP) from\\n          1982 to 2002 was only 2 per cent; GDP per capita remained stagnant. Between 2003 and 2013, however,\\n          the average annual growth rate reached approximately 5 per cent. Nevertheless, the average annual growth\\n          rate hides strong volatility resulting from weather related shocks. In 2013, the growth rate was 13.6 per\\n          cent (the highest in Latin America) showing sharp recovery after contracting by 1.2 per cent in 2012 as a\\n          result of a severe drought, according to International Monetary Fund figures for 2014. In 2012, the\\n          country's GDP per capita was $4,497 (measured in 2005 United States dollars purchasing power parity\\n          terms). Despite recent economic recovery and a favourable growth outlook, the country’s key challenges\\n          include reducing poverty and inequality through an inclusive, sustainable pattern of growth, reducing\\n          vulnerability to macroeconomic changes in neighbouring countries (especially Brazil), enhancing\\n          democratic institutions, fostering accountability and responsiveness to citizen’s demand for voice and\\n          participation, and enhancing individuals and community resilience in the face of natural and anthropogenic\\n          risks.\\n          2. The total poverty rate in Paraguay was 23.8 per cent in 2013. The country has seen a reduction in\\n          poverty based on income of about 20 percentage points since 2003 (44 per cent). With extreme poverty\\n          rates reaching 10.1 per cent in 2013, the country is close to achieving the Millennium Development Goal\\n          (MDG) target of 9 per cent reduction. In 2003, the rate of extreme poverty was 21.2 per cent. The country’s\\n          poor are concentrated in rural areas (57.4 per cent of the total) and poverty impacts 32.5 per cent of\\n          women, according to 2011 data. While indigenous peoples account for only 2 per cent of the country's\\n          population, 71.8 per cent of them live in poverty (2008), 39 per cent are illiterate and their participation in\\n          the labour market is low at 52 per cent. Agriculture and livestock accounted for about 23 per cent of GDP\\n          in 2013, but their indirect contribution is as high as 41 per cent, which makes it a main driver of economic\\n          growth. Paraguay's labour force participation rate is 64.3 per cent, higher for men than for women (74.7\\n          per cent and 53.8 per cent, respectively.) The working population constitutes 95.1 per cent of the labour\\n          force participation rate and underemployment is 20.6 per cent. In 2013, the Gini index was 0.4776, lower\\n          than in 2011 (0.5199). However, owing to historical causes, the land concentration index (Gini) is one of\\n          the highest in Latin America at 0.93 (2008). In 2012, with a human development index of 0.659, Paraguay\\n          ranked 111 out of 186 countries, according to the Human Development Report 2013, lower than the Latin\\n          American average of 0.741. In general, the country is showing good progress on the MDGs, with\\n          challenges in basic sanitation, child mortality and maternal mortality.\\n          3. Much current growth and poverty reduction are linked to a primary natural resource boom. In the\\n          primary sector, the production of livestock and commercial agriculture has increased in recent decades and\\n          the planted soy area almost tripled between 1997 and 2012. This situation threatens forest cover and\\n          increases emissions resulting from land use changes, which accounts for 95 per cent of the country’s total\\n          CO2 emissions. The forest loss rate has doubled the Latin America average, totalling approximately\\n          179,000 hectares per year, with the resulting destruction of livelihoods, mainly that of indigenous peoples.\\n          This situation will likely cause an increase in the frequency of severe droughts and floods and their related\\n          social and economic costs: lack of water for residential and production usage, significant impact on the\\n          primary sector, and heightened difficulties in accessing energy. In fact, although Paraguay is the country\\n          with the highest global per capita hydroelectricity generation rate, its consumption in the energy matrix is\\n          only about 15 per cent. Currently, 46 per cent of the country's energy consumption consists of biomass. The\\n          industrial sector is highly wood-dependant, representing 49.6 per cent of energy consumption. One of the\\n          greatest challenges is to reconcile economic growth opportunities with natural resource usage that fosters\\n          the inclusion of vulnerable populations (women and indigenous populations) into a more sustainable and\\n          equitable development process.\\n2/15                                                                                                              14-57594\\n\\n\\n                                                                                                              DP/DCP/PRY/2\\n         4. The weakness of democratic institutions, coupled with limited civic participation, is a major challenge for\\n         inclusive, participatory democratic governance. Comparative indicators show poor political stability (the\\n         World Bank indicator was -0.84 in 2012) and low government efficiency (-0.90 in 2014). In addition,\\n         according to Latino Barometer 2013, 58 per cent of Paraguayans consider that their “democracy has huge\\n         problems”. This “low-quality democracy” is partly the result of weak empowerment of poor and excluded\\n         populations, including indigenous people, who lack the mechanisms that would give them greater voice on\\n         policymaking. Furthermore, even though the rate of merit-based public appointments increased from 1 to 26\\n         per cent between 2008 and 2011), it remains low and limits the efficiency of public administration. Other\\n         factors that severely restrict the progressive realization of civil and political rights are: (a) limited access to\\n         justice, particularly for the poor living in rural areas and for indigenous people as a result of the geographic\\n         centralization of justice mechanisms; (b) social bias in access to justice (only 18 per cent of the population\\n         considers that there is equality under the law) and to public services; (c) insufficient corruption control (in\\n         2013 Paraguay ranked 150 out of 177 countries, according to the corruption perceptions index of\\n         Transparency International); and (d) accountability deficit (the World Bank value for voice and accountability\\n         was minus 0.15 in 2012). In sum, there is a need to enhance citizen’s voice and participation and to modernize\\n         and strengthen government institutions, in particular the electoral system, in order to enhance people’s voice\\n         through political representation. In particular, women's presence in political decision-making is limited, with\\n         only 19 per cent of seats in parliament. Overall, this situation translates into persistent citizen detachment\\n         from political institutions. In fact, satisfaction with democracy fell from 39 to 25 per cent between 2011 and\\n         2013, according to Latino Barometer.\\n         5. Vulnerability to natural disasters continues to threaten economic and social achievements achieved to\\n         date. The country's risk map is highly diverse, with recurrent and cyclic flood and drought events impacting\\n         both urban and rural areas. Social and human-induced threats linked to the dynamics of economic growth,\\n         poverty, income inequality and concentrated land holding compound the effects of extreme weather events\\n         which directly affect livelihoods, especially that of poor rural populations and indigenous people.\\n         Urbanization has grown progressively and the lack of employment has fostered rural-urban migration. New\\n         settlers are concentrated in risk areas around large urban centres, increasing their vulnerability. Paraguay is\\n         mainly an urban country, with 59.2 per cent of its people living in cities versus 40.8 per cent in rural areas.\\n         Institutional frameworks designed to support the implementation of public policies and enable greater\\n         resilience have shown major progress at the national level. The national risk management and reduction policy\\n         approved in 2014 is a relevant step in this direction. Still, some challenges remain in consolidating an\\n         integrated national risk management and resilience promotion system and in building the country's capacity to\\n         assess and quantify the impact of disasters and other threats. While Paraguay has made efforts and progress at\\n         the national level, regulatory frameworks and institutions for the implementation of risk management policies\\n         at the local level are just emerging and need to incorporate a gender and indigenous people-sensitive\\n         approach. Likewise, the country lacks unified tools and consolidated maps at the national and subnational\\n         levels that would help to assess risks properly and foster systems to calculate economic losses resulting from\\n         disasters. With regard to disaster preparedness and response, the Government faces the challenge of\\n         developing a national early warning system and nationwide plans to address threats in a coordinated manner.\\n         6. The assessment of development results 2010 highlighted the UNDP contribution in the context of the\\n         democratic transition of the last 10 years. The assessment showed that UNDP worked in crucial areas to lay\\n         the foundations for human development; enriched the debate and thinking through its technical assistance and\\n         advisory services in a critical period of changes; and strengthened the capacities of the Executive Branch.\\n         Evaluations from 2010 and 2012 showed that UNDP had positively impacted policymaking, resulting in the\\n         first ever structured body of social policies, the creation of environmental policies, risk management policies\\n         with local accountability, and the positioning in the public agenda of the eradication of discriminatory\\n         practices based on gender and ethnicity. UNDP also contributed to developing democratic social\\n         organizations, acted as a mediator helping parties to reach agreements based on the equilibrium between\\n         social demand and the capacity of the state to meet them, and facilitated consensus building. UNDP supported\\n         the modernization and increased efficiency of public entities, which deeply impacted the creation of the Social\\n14-57594                                                                                                                3/15\\n\\n\\nDP/DCP/PRY/2\\n          Cabinet and its technical secretariat and the development of capacities in different ministries and national\\n          institutions.\\n          7. Lessons learned from the previous cooperation cycles suggest that the value added of UNDP in Paraguay\\n          consists in its helping to develop capacity through high quality technical assistance and advisory services that\\n          support public policy design and implementation and the application of results-based management systems.\\n          The comparative advantage of UNDP in this field is based on its own experiences, its best practices in\\n          verifiable, replicable and scalable interventions at the local or national levels, and a broad regional and global\\n          knowledge network. Key development partners have consistently drawn attention to the capacity of UNDP to\\n          facilitate the coordination of public, private and international cooperation and to foster dialogue and build\\n          consensus in the support of public policies as one of its comparative advantages. The new programme is hence\\n          consistent with the organization’s strategic institutional change and focuses on providing high-quality policy\\n          advice and programming approaches aimed at responding to development challenges.\\n          8. In order to guarantee the sustainability of UNDP interventions, the assessment of development results\\n          recommended more direct support to civil society, stronger links with parliament and the judiciary, and greater\\n          focus on the most vulnerable populations. It also emphasized the need to strengthen institutional capacities to\\n          achieve results and address the challenges of UNDP programme sustainability. In light of these\\n          recommendations, UNDP will promote cooperation at the national and subnational levels, which will involve\\n          the executive branch – as public policy developer; parliament – in its supervisory and law-making roles; the\\n          judiciary – to guarantee access to justice; citizens’ organizations – in their dual role as active agents and policy\\n          guardians; entrepreneurs – as leaders of shared value investments and decent work; and academia and\\n          non-governmental organizations (NGOs) – as leveraging agents of transformational thinking and action.\\n     II. Programme priorities and partnerships\\n          9. The country programme, 2015-2019, contributes to the national development plan, 2013-2018,\\n          and is aligned with the United Nations Development Assistance Framework (UNDAF) , 2015-2019,\\n          and the UNDP strategic plan, 2014-2017.\\n          10. Growth and development are inclusive and sustainable, incorporating productive capacities that\\n          create employment and livelihoods for the poor and excluded. UNDP will focus on supporting the\\n          extreme poverty reduction efforts of the Government, and the improvement of social protection\\n          systems, through pilot experiences that will feed into public policy design and eventually be scaled up\\n          at the national level. Using national human development reports, UNDP will foster efforts to give\\n          greater voice to citizens and promote their participation in public life through, for example, forums for\\n          discussion, and it will recommend development solutions that speak to the concerns of citizens and\\n          decision makers. Building on past experiences, UNDP will support the participatory design of\\n          environmentally sustainable and socially responsible production models. These models, which the\\n          former programme cycle did not address, will target commercial and household agriculture and will\\n          be based on partnerships among public institutions, the private sector, academi a and civil society\\n          (particularly farmer, indigenous and environmental organizations) and will have a strong gender\\n          perspective. UNDP will support gender-sensitive climate change mitigation and adaptation policies,\\n          strategies and action plans through South-South cooperation at the regional and global levels. UNDP\\n          will promote energy access and efficiency, with a focus on vulnerable populations. UNDP will\\n          coordinate efforts with the United Nations Entity for Gender Equity and Women’s Empowerment\\n          (UN-Women), the World Food Programme (WFP), UNFPA and the United Nations Children’s Fund\\n          (UNICEF), particularly for the achievement of MDGs 1 and 7 to reduce extreme poverty and poverty;\\n          cut back greenhouse gases and deforestation; expand protected areas; and increase the population with\\n          access to potable water and sanitation facilities.\\n4/15                                                                                                                   14-57594\\n\\n\\n                                                                                                      DP/DCP/PRY/2\\n         11. Strengthened democratic governance to meet citizen expectations. The country programme will\\n         aim to support universal access to justice by strengthening its functioning at the central and\\n         subnational levels. It will also support efforts to improve civil service professionalism at the central\\n         level, striving for better, more responsive and transparent service delivery. In order to promote\\n         anti-corruption strategies, UNDP will strengthen the anti-corruption units of line ministries and the\\n         National Anti-Corruption Secretariat. The organization will support efforts to strengthen the\\n         management capacities and institutional frameworks of the judiciary, the National Congress, the\\n         Supreme Court of Electoral Justice and other government institutions. UNDP will accomplish these\\n         goals by providing technical assistance, policy advice, and access to better practices and knowledge\\n         networks. UNDP will support the implementation and monitoring of results -focused institutional\\n         improvement plans to ensure accountability. It will promote dialogue and consensus-building\\n         capacities in an effort to encourage effective citizen participation, focusing on women’s political\\n         participation and the prior, informed consent of indigenous communities, in order to facilitate the\\n         design and implementation of public policies. Main partners will include public institutions, civil\\n         society organizations (CSOs), international donors, the private sector and departmental and municipal\\n         governments. UNDP will also work with OHCHR, UN-Women, ILO, UNFPA, UNICEF and the\\n         United Nations Office for Drugs and Crime (UNODC).\\n         12. The country has reduced its natural disaster and climate change risks. UNDP will support the\\n         participatory design and adoption of risk evaluation and mapping systems at the national level, in\\n         addition to assessing the social and economic losses caused by natural disasters. UNDP will continue\\n         to provide technical assistance and facilitate the exchange of knowledge, technologies and resources\\n         for the implementation of the recently approved national risk management policy, and strengthening\\n         the leadership of the National Emergency Secretariat. Furthermore, UNDP will support the\\n         subnational promotion and implementation of gend er-sensitive institutional and policy frameworks for\\n         local risk reduction and management, and strategies to foster community resilience. Among these\\n         strategies, the organization will foster participatory planning in basic sanitation, helping to reduce the\\n         gap in MDG 7. It will pay particular attention to ensuring indigenous communities´ access to\\n         sanitation services. UNDP will support the development of disaster prevention and response systems\\n         by providing technical assistance for the creation of risk maps, early warning systems and\\n         contingency plans at national, subnational and local levels. In addition to the National Emergency\\n         Secretariat, governors’ offices and municipalities are active partners in this process, along with other\\n         public agencies such as the Technical Planning Secretariat and the Paraguayan Indigenous Institute,\\n         humanitarian partners such as the Red Cross, Intermon/Oxfam, International Plan, and United Nations\\n         organizations that are part of the United Nations Emergency Team (UNETE), which promotes South-\\n         South cooperation and sharing of best practices with other countries in the region as part of its\\n         capacity strengthening strategy.\\n         13. UNDP has designed the country programme in close consultation with national authorities to\\n         ensure national ownership and sustainability of results. The organization will seek to build alliances\\n         with the international financial institutions in an effort to enhance the programme’s effectiveness and\\n         efficiency during implementation. It will also engage with civil society, academia and the private\\n         sector in order to advocate for and promote sustainable human development.\\n14-57594                                                                                                        5/15\\n\\n\\nDP/DCP/PRY/2\\n      III. Programme management and risks\\n           14. The Ministry of Foreign Affairs and the Technical Planning Secretariat will coordinate the\\n           implementation of the country programme mainly under the national execution modality. They may also\\n           pursue other implementation modalities led for example by United Nations organizations, NGOs or direct\\n           UNDP implementation to enable effective responses under specific circumstances.\\n           15. UNDP will review programme effectiveness and performance with its main counterpart on an annual\\n           basis and in coordination with the UNDAF annual review process. Project boards will continue to provide the\\n           platform for participatory governance and decision-making that is nationally owned and led.\\n           16. Low institutional capacity and high turnover of senior government officials may affect the successful\\n           implementation of the programme, eventually hindering ownership, results achievements and accountability.\\n           To mitigate this risk, UNDP will promote inter-institutional and multi-actor participatory strategies and\\n           monitoring mechanisms to identify at an early stage potential implementation difficulties for immediate\\n           action.\\n           17. Difficulties mobilizing financial resources in the past may continue and can potentially jeopardize\\n           programme and project implementation and scaling-up. For this reason, having experienced a realignment\\n           exercise in 2012-2013, which resulted in the consolidation of a structure and teams with the necessary\\n           substantive and operational capacities to respond effectively and efficiently and to guarantee achievement of\\n           results, the country office will seek partnerships with multilateral banks and the private sector. UNDP will also\\n           pursue South-South and triangular cooperation opportunities that offer innovative approaches to cost-\\n           efficiency.\\n           18. The management will ensure full compliance with the UNDP programme operations policies and\\n           procedures that provide the basis for effective programme and risk management. To mitigate the risk at the\\n           project formulation stage and to enhance environmental and social sustainability, large projects will undergo a\\n           systematic review process to ensure environmental and social safeguards.\\n           19. The country programme document outlines UNDP contributions to national results and serves as the\\n           primary unit of accountability to the Executive Board for results alignment and resources assigned to the\\n           programme at the country level. Manager accountability at the country, regional and headquarter levels for the\\n           country programme is prescribed in the organization’s programme and operations policies and procedures and\\n           the internal controls framework.\\n     IV. Monitoring and evaluation\\n           20. An integrated monitoring, evaluation and knowledge management strategy will buttress the country\\n           programme and will contribute to strengthening the results management culture, learning and knowledge\\n           generation processes and support UNDP country office accountability.\\n           21. Developing national capacities for results-based management and information collection and use is one\\n           of the programme’s key strategies. UNDP will disaggregate data based on geography, gender, indigenous\\n           peoples, age and people with different capacities. Crucially, the country office will promote adequate data\\n           collection methods using different UNDP-led initiatives in order to strengthen the capacity of national data\\n           centres to provide sound information for timely decision-making.\\n           22. UNDP will monitor the country programme programmatically and operationally in coordination with\\n           implementing partners with the objective of reviewing progress against targets established at the design phase.\\n           Together, they will address issues identified and ensure lessons learned are fed back into the entire\\n           programme.\\n6/15                                                                                                                14-57594\\n\\n\\n                                                                                                      DP/DCP/PRY/2\\n         23. The organization has developed the evaluation plan for the programme based on UNDP\\n         evaluation policies. UNDP will conduct three outcome evaluations and a final country programme\\n         evaluation in 2019, measuring programme results and contributions made by UNDP to the\\n         development results under the UNDAF. These evaluations will collect evidence and identify best\\n         practices and lessons learned to improve programme implementation. UNDP will in turn consolidate\\n         this information in the form of knowledge products for possible use in South-South cooperation.\\n         24. UNDP will adjust the indicators, baselines and targets of the programme’s indicative outputs so\\n         that they are in line with the qualitative and quantitative indicators of the national development plan.\\n         25. A specialized staff member will ensure that results-based management and monitoring and\\n         evaluation principles form an integral part of the work programme to ensure evidence-based results.\\n14-57594                                                                                                       7/15\\n\\n\\n                                                                                                                                                                                                      DP/DCP/PRY/2\\n8/15       Annex. Results and resources framework for the Republic of Paraguay (2015-2019)\\n           NATIONAL PRIORITY OR GOAL: Extreme poverty reduction sustained and people’s welfare improved; Higher quality of life within a sound, sustainable habitat; Environmental assets\\n           recovered and evaluated\\n           UNDAF OUTCOME 2.1: Devolution and accountability: Paraguay will have reduced poverty levels, established decent work and guaranteed improvement of working population's income\\n           RELATED STRATEGIC PLAN OUTCOME 1: Growth and development are inclusive and sustainable, incorporating productive capacities that create employment and livelihoods for\\n           the poor and excluded.\\n           Countries have strengthened institutions to progressively deliver universal access to basic services\\n                                                                                                                                                                                    INDICATIVE\\n                                                             DATA SOURCE AND\\n                                                                                                                                                    MAJOR PARTNERS/                 RESOURCES\\n           UNDAF OUTCOME INDICATOR(S),                      FREQUENCY OF DATA                 INDICATIVE COUNTRY PROGRAMME\\n                                                                                                                                                     PARTNERSHIPS                  BY OUTCOME\\n              BASELINES, TARGET(S)                           COLLECTION, AND                              OUTPUTS\\n                                                                                                                                                     FRAMEWORKS                   (in United States\\n                                                             RESPONSIBILITIES\\n                                                                                                                                                                                       dollars)\\n           Indicator 1a: Percentage of populationo     Annual data of the Permanent           Output 1.1: Options to promote inclusive           Leadership of the Government     Regular:\\n           in: (a) poverty; (b) extreme poverty        Household Survey, General              and sustainable social protection, based on        (particularly Ministry of        $451,930\\n           Baseline (2013): (a) 23.8%; (b) 10.1%       Directorate of Statistics, Surveys     best practices and lessons learned at              Finance and Social Action\\n           Target (2019): (a) XX%; (b) XX% to be       and Census                             regional level                                     Secretariat), and departmental\\n           defined in 2014, disaggregated by sex, as                                                                                             and municipal governments.       Other:\\n           per the national development plan           The country has defined a national     Indicator 1.1.1 A: Number of environmental         Several civil society            $28,572,000\\n           Urban area target (2013): (a) 17%;          climate change policy and a            and gender conditionalities established in         organizations actively\\n           (b) 5.1%                                    national environmental policy. The     conditional cash transfer programmes and           participate in management and\\n           Urban target (2019): (a) XX%; (b)           implementation roadmap and             other poverty reduction programmes as a pilot      monitoring. All United\\n           XX% to be defined in 2014,                  progress indicators need to be         for scaling up the poverty and environment         Nations organizations in\\n           disaggregated by sex as per the national    defined. The Ministry of the           nexus of poverty reduction                         Paraguay are involved.\\n           development plan                            Environment is responsible for this    Baseline: 0 environmental conditionality; 1\\n           Rural baseline (2013): (a) 33.8%;           in consultation with other agencies,   gender conditionality\\n           (b) 17.6%                                   such as the Climate Change             Target: To be defined\\n           Rural target rural (2019): (a) XX%;         Commission and the National            Source: Poverty and Environment Initiative-\\n           (b) XX% to be defined in 2014,              Environmental Council, with            Paraguay, Social Action Secretariat, Secretariat\\n           disaggregated by sex as per the national    United Nations support. Indicators     of the Environment\\n           development plan                            should have be defined by the end      Frequency: Annual (2015)\\n                                                       of 2014.\\n           Indicator 1b: Implementation of the                                                Indicator 1.1.1 B Percentage of monthly\\n           Statistical National Development                                                   household income increases from farm\\n           Strategy                                                                           production, micro-credits and inclusive\\n           Baseline: Strategy in design stage                                                 business under public-private partnerships\\n           Target: Strategy implemented                                                       Baseline: Monthly income of 400 households\\n           Source: Technical Planning Secretariat                                             in the Tava-i district equals $139 (monthly)\\n                                                                                              Target: 60% increase in monthly household\\n                                                                                              income (or $220 in 2017); percentage increase\\n                                                                                              in monthly female-headed households to be\\n                                                                                              defined\\n                                                                                              Source: PEI-Paraguay Initiative, Social Action\\n                                                                                              Secretariat, Secretariat of the Environment\\n                                                                                              Frequency: Annual\\n14-57594\\n\\n\\n14-57594\\n           Indicator 1c: Coverage of social           Output 1.2: Mechanisms established to            Participating entities: Ministry of\\n           protection systems disaggregated by sex,   generate and broadly disseminate                 Finance, Technical Planning\\n           age, income, and rural/urban               development knowledge solutions                  Secretariat, social ministries and\\n           Baseline: To be defined                                                                     secretariats, Social Expenditure\\n           Target: To be defined                      Indicator 1.2.1: (a) Number of human             Monitoring Commission of the\\n           Source: Social and finance ministries      development reports and specialized reports      Parliament, departments and\\n                                                      produced and disseminated; (b) Number of         municipalities. Several\\n           Indicator 1d: Percentage of                recommendations from human development           community organizations are also\\n           implementation of the national             reports adopted as public policies; (c) Number   involved.\\n           environmental policy and the national      of individuals with access to printed\\n           climate change policy                      publications\\n           Baseline: To be agreed in 2014             Baseline 2014: (a) 01; (b) 0; (c) 0\\n           Target: To be defined                      Target: (a) 10; (b) 5; (c) 3,000\\n           Frequency: Biennial                        Source: UNDP Paraguay web monitoring,\\n           Source: National Environment Council,      official documents\\n           National Climate Change Commission         Frequency: Annual\\n           and Secretariat of the Environment\\n           reports                               o    Output 1.3. National and sub-national            Leadership of the Government\\n           Alto Paraná, Canindeyú Amambay             systems and institutions enabled to achieve      (particularly Ministry of\\n           department baselines: To be defined in     structural transformation of productive          Agriculture and Livestock,\\n           2014                                       capacities for inclusive and sustainable         ministry of Industry and\\n           Departmental targets: To be defined in     development                                      Commerce, Secretariat of the\\n           2014                                                                                        Environment, Technical Planning\\n           Source: National Environment Council,      Indicator 1.3.1. A: Number of national and       Secretariat and National Forestry\\n           Secretariat of the Environment, local      sub-national initiatives implemented to          Institute) and departmental and\\n           councils, departmental and municipal       strengthen livelihoods and natural resources     municipal governments. The\\n           reports                                    Baseline: To be defined in the new               Government promotes the overall\\n                                                      development plan framework foreseen for 2014     policy, defines incentives and\\n                                                      and in other institutional plans                 guarantees consultation with\\n                                                      Target: To be defined                            indigenous people. The private\\n                                                      Source: To be defined                            sector, specifically entrepreneurs\\n                                                      Frequency: To be defined                         and workers, are actively\\n                                                                                                       involved in ‘green commodities’\\n                                                      Indicator 1.3.1. B: Number of hectares of        and employment improvement\\n                                                      protected areas and/or biological corridors      strategies. The World Food\\n                                                      Baseline: To be defined in the new               Programme (WFP) and the Food\\n                                                      development plan framework foreseen for 2014     and Agriculture Organization of\\n                                                      and in other institutional plans                 the United Nations (FAO) are\\n                                                      Target: To be defined                            also participating.\\n                                                      Source: Secretariat of the Environment\\n                                                      Frequency: To be defined\\n                                                      Indicator 1.3.1 C: Number of environmental\\n                                                      or ecosystem services adopted\\n                                                      Baseline: To be defined in development plan\\n                                                      framework foreseen for 2014 and in other\\n                                                      institutional plans.\\n                                                                                                                                             DP/DCP/PRY/2\\n                                                      Target: To be defined\\n                                                      Source: Secretariat of the Environment\\n                                                      Frequency: To be defined\\n9/15\\n\\n\\n                                                                                                     DP/DCP/PRY/2\\n10/15       o   Indicator 1.3.1 D: Number of hectares of\\n                environmentally sustainable and socially\\n                responsible commercial agriculture and family\\n                farming that expand and diversify the\\n                production base\\n                Baseline: To be defined in 2014\\n                Target: To be defined\\n                Source: Ministry of Agriculture and Livestock,\\n                Secretariat of the Environment , Ministry of\\n                Industry and Commerce\\n                Frequency: To be defined\\n            o   Output 1.4. Climate change mitigation and        This output is led by the\\n                adaptation actions increased and                 Government (especially by\\n                implemented in all sectors based on strategic    Secretariat of the Environment,\\n                tools and multi-sectoral consensus               National Forestry Institute,\\n                                                                 Technical Planning Secretariat)\\n                Indicator 1.4.1 A: Approval and                  and indigenous organizations\\n                implementation percentage of gender sensitive    such as Federation for the Self-\\n                climate change mitigation and adaptation         determination of Indigenous\\n                strategy (under development)                     Peoples and involves the ongoing\\n                Target: To be defined                            participation of all sectors\\n                Source: National Climate Change                  (particularly the private sector,\\n                Commission, Secretariat of the Environment       civil society organizations and\\n                reports                                          academia) both at national and\\n                Frequency: Biennial                              sub-national levels. All United\\n                Indicator 1.4.1 B: Launch and implementation     Nations organizations are also\\n                percentage of an environmental, social and       involved.\\n                human rights safeguard system (under\\n                development), with an emphasis on indigenous\\n                people\\n                Target: To be defined\\n                Source: National Environmental Council,\\n                National Climate Change Commission,\\n                Technical Planning Secretariat, Secretariat of\\n                the Environment reports\\n                Frequency: Biennial\\n                Indicator 1.4.1 C: Approval and\\n                implementation percentage of the national plan\\n                for reducing emissions from deforestation and\\n                forest degradation (REDD+);\\n                Target: To be defined\\n                Source: National Climate Change\\n                Commission, National Committee for REDD+,\\n                Secretariat of the Environment reports\\n                Frequency: Biennial\\n 14-57594\\n\\n\\n 14-57594\\n            o   Output 1.5: Inclusive and sustainable            Ministry of Public Works and\\n                solutions provided to achieve energy             Communications leadership with\\n                efficiency and universal access to energy        the participation of the Technical\\n                sources (particularly renewable energy),         Planning Secretariat, Secretariat\\n                with emphasis on vulnerable populations          of the Environment, ANDE and\\n                                                                 multinationals, municipalities\\n                Indicator 1.5.1 A: Number of energy              and rural communities. Media\\n                efficiency and energy diversification            and non-governmental\\n                programmes designed and implemented in           organizations (NGOs) support\\n                different sectors (i.e., transportation,         citizen education in energy usage.\\n                production and construction), aimed especially\\n                at improving living conditions of the most\\n                vulnerable populations\\n                Baseline (2014): To be defined with sectors\\n                Target (2019): To be defined with sectors\\n                Source: Ministry of Public Works and\\n                Communication, National Electricity\\n                Administration\\n                Frequency: To be defined\\n                Indicator 1.5.1 B: Number of reforested\\n                hectares\\n                Baseline: To be defined under the national\\n                development plan\\n                Target (2019): To be defined under the\\n                national development plan\\n                Source: National Forestry Institute\\n                Frequency: To be defined\\n                                                                                                      DP/DCP/PRY/2\\n11/15\\n\\n\\n                                                                                                                                                                                                         DP/DCP/PRY/2\\n12/15       NATIONAL PRIORITY OR GOAL: Social development with justice and equity\\n            UNDAF OUTCOME 1.1: Paraguay will have progressed in protecting and guaranteeing the rights of all individuals, with emphasis on vulnerable and discriminated populations\\n            RELATED STRATEGIC PLAN OUTCOME 2: Citizen demands for voice, development, rule of law and accountability are met by stronger systems of democratic governance\\n            Indicator 2a: Combined progress rate o    in   This rate aims at providing public     Output 2.1: Increased management capacity          Leadership of the judiciary. Civil    Regular:\\n            five basic indicators of inter-institutional   management efficiency in               and accountability of the judiciary in order       society organizations participate     $1,387,320\\n            coordination to guarantee human rights         guaranteeing basic rights. The         to improve citizen access to justice               in the monitoring of results and\\n            in national and local levels                   Human Rights Network of the            Indicator: Number of persons with access to        implementation of alternative\\n            Baseline: To be agreed in 2014                 Executive Branch, with United          legal aid services, by geographic area and         justice.                              Other:\\n            Target: To be defined                          Nations support, is in charge of       disaggregated by sex                                                                     $76,750,000\\n            Source: Human Rights Network of the            selecting indicators, the              Baseline: To be defined in 2014 (judiciary and\\n            Executive Branch                               methodology to calculate the           UNDP)\\n                                                           combined rate and its applications.    Target: To be defined\\n            Indicator 2b: Percentage of legal cases        It should have be defined by the end   Source: Judiciary\\n            solved by the judiciary                        of 2014.                               Frequency: Annual\\n            Baseline: To be defined                 o\\n            Target: To be defined                                                                 Output 2.2: Strengthened public institutions       Currently, Secretariat of Public\\n            Source: Supreme Court of Justice                                                      management and civil service capacities            Affairs, Technical Planning\\n                                                                                                  Indicator 2.2.1: Percentage of civil servants:     Secretariat, Social Action\\n            Indicator 2c: Voter turnout,                                                          (a) admitted by merit based selection              Secretariat, Secretariat of the\\n            disaggregated by sex, age and excluded                                                processes; and (b) promoted by merit and           Environment, National\\n            groups                                                                                technical qualifications                           Emergency Secretariat,\\n            Baseline: 68.6% (2013)                                                                Baseline: (a) 26% (2012); (b) To be defined in     Paraguayan Institute for\\n            Target: To be defined                                                                 2014 (Secretariat of Public Affairs and UNDP)      Indigenous Affairs, Ministry of\\n            Source: Superior Court of Electoral                                                   Target: To be defined                              Labour, Ministry of Finance and\\n            Justice                                                                               Source: Secretariat of Public Affairs              Ministry of Health and Social\\n                                                                                                  Frequency: Annual                                  Welfare are participating.\\n            Indicator 2d: Proportion of women to\\n            men in Parliament                                                                     Output 2.3: Strengthened technical,                Leadership of the Parliament and\\n                                                                                                  management and accountability capacities           the Superior Court of Electoral\\n            Baseline: 19% (2013)\\n                                                                                                  of the Congress and of the Superior Court of       Justice. Participation of political\\n            Target: 2018: To be defined                                                           Electoral Justice, creating conditions for\\n            Source: Superior Court of Electoral                                                                                                      parties, citizen organizations and\\n                                                                                                  increased democratic participation                 media in indicator surveillance.\\n            Justice\\n                                                                                                  Indicator 2.3.1 A: Extent to which Parliament\\n                                                                                                  meets minimum benchmarks to perform core\\n                                                                                                  functions effectively\\n                                                                                                  Baseline: To be defined in 2014 (Parliament\\n                                                                                                  and UNDP)\\n                                                                                                  Target: To be defined\\n                                                                                                  Source: National Parliament, independent\\n                                                                                                  monitoring\\n                                                                                                  Frequency: Annual\\n                                                                                                  Indicator 2.3.1 B: Share of eligible voters\\n                                                                                                  registered for voting, disaggregated by sex, age\\n                                                                                                  and excluded groups\\n                                                                                                  Baseline: 2013: 88,3%\\n                                                                                                  Target: 2018: To be defined in 2014 (Superior\\n                                                                                                  Court for Electoral Justice and UNDP)\\n                                                                                                  Source: Superior Court for Electoral Justice\\n 14-57594\\n                                                                                                  Frequency: Quinquennial\\n\\n\\n 14-57594\\n            Output 2.4: Institutions supported and              UNDP promotes effective civil\\n            dialogue processes facilitated for consensus        society participation and will\\n            building and effective civil society                agree on indicators with such\\n            participation in national development               organizations to measure the\\n                                                                quality of participation. This\\n            Indicator 2.4.1 A: Quality of civil society         output includes Ministry of\\n            participation in development and public-            Women participation, all United\\n            management-related issues, disaggregated by         Nations organizations in the\\n            sex, age groups, indigenous people and other        country and several social and\\n            excluded groups                                     community organizations.\\n            Baseline: To be defined in 2014 (civil society\\n            and UNDP)\\n            Target: To be defined\\n            Source: To be defined\\n            Frequency: To be defined\\n            Indicator 2.4.1 B: Percentage of women\\n            participating as candidates in national elections\\n            for: (a) president (b) senator; (c)\\n            congresswoman; (d) governor; (e) council\\n            woman in departmental councils\\n            Baseline 2013: (a) 22.8%; (b) 43.4%; (c)\\n            36.3%; (d) 13.2%; (e) 38.2%\\n            Target 2018: To be defined in 2014 (Superior\\n            Court for Electoral Justice, Ministry of\\n            Women, UN-Women and UNDP)\\n            Source: Superior Court for Electoral Justice\\n            Frequency: Quinquennial\\n            Output 2.5: Institutions and systems enabled        UNDP will leverage South-South\\n            to address awareness, prevention and                support for participating sectors,\\n            enforcement of anti-corruption measures             and will promote transparency\\n            across sectors and stakeholders                     agreements among these sectors\\n                                                                and their providers and users,\\n            Indicator 2.5.1: Number of approved and             National Anticorruption\\n            implemented proposals for corruption risk           Secretariat, and ministries that\\n            mitigation in specific sectors                      provide basic social services.\\n            Baseline: 0\\n            Target: 2019: To be defined\\n            Source: National Anticorruption Secretariat\\n            and ministries that provide basic social services\\n            Frequency: Annual\\n                                                                                                     DP/DCP/PRY/2\\n13/15\\n\\n\\n                                                                                                                                                                                             DP/DCP/PRY/2\\n14/15       NATIONAL PRIORITY OR GOAL: Supporting the reduction of global climate change risks; Improving quality of living within a sound and sustainable habitat\\n            UNDAF OUTCOME 3.1: Paraguay will have reduced its disaster risks and increased community resilience and responsiveness to emergencies and disasters\\n            RELATED STRATEGIC PLAN OUTCOME 5: Countries are able to reduce the likelihood of conflict and lower the risk of natural disasters, including from climate change\\n            Indicator 3a: Percentage of              o   The country has not yet              Output 3.1. System developed to assess natural     National Emergency             Regular:\\n            implementation of an integral risk           implemented a methodology to         and human-induced risks at national and sub-       Secretariat leadership.        $262,750\\n            reduction, prevention, early warning and     assess economic losses from          national levels                                    UNDP will intensify actions\\n            disaster response and recovery system        natural disasters that can be used   Indicator 3.1.1: Number of municipalities with     to strengthen National\\n            Baseline: To be agreed in 2014               as a basis for a structured          risk maps developed with local communities in a    Emergency Secretariat          Other:\\n            Target: To be defined                        reduction strategy. This             participatory manner, aligned with national        capacities. Departments and    $3,850,000\\n            Disaggregation: Departments                  methodology will be defined in       statistics                                         municipalities will\\n                                                         2014 and 2015 under the              Baseline 2014: 0 municipalities                    participate. Promotion of\\n            Indicator 3b: Mortality risk from natural    responsibility of the National       Target 2019: To be defined                         community participation will\\n            hazards, for women and men                   Emergency Secretariat and with       Source: National Emergency Secretariat             be a priority. Business\\n            Baseline: To be defined                      United Nations support.              Frequency: Annual                                  associations and unions will\\n            Target: To be defined                                                                                                                also participate. The\\n            Source: National Emergency Secretariat                                            Output 3.2. Effective institutional, legislative   international community\\n                                                                                              and policy frameworks for the improved             provides humanitarian\\n            Indicator 3c: Economic loss from natural                                          implementation of disaster risk management         assistance and warning,\\n            hazards as a proportion of GDP                                                    measures at national and sub-national levels       emergency mobilization and\\n            Baseline: To be defined                                                           Indicator 3.2.1 A: Number of (a) departments and   damage assessment\\n            Target: To be defined                                                             (b) municipalities endowed with a regulatory and   technologies.\\n            Source: National Emergency Secretariat                                            institutional body for disaster risk and climate\\n                                                                                              change management\\n                                                                                              Baseline: (a) 13; (b) 6\\n                                                                                              Target 2019: (a) 17; (b) 17\\n                                                                                              Source: National Emergency Secretariat and\\n                                                                                              departmental and municipal governments reports\\n                                                                                              Frequency: Annual\\n                                                                                              Indicator 3.2.1 B: Number of (a) departments and\\n                                                                                              (b) municipalities with risk management and\\n                                                                                              reduction committees that are aligned with the\\n                                                                                              national policy and coordinated with other local\\n                                                                                              structures\\n                                                                                              Baseline: (a) 13; (b) 6\\n                                                                                              Target 2019: (a) 17; (b) 17\\n                                                                                              Source: National Emergency Secretariat and\\n                                                                                              departmental and municipal government reports\\n                                                                                              Frequency: Annual\\n 14-57594\\n\\n\\n 14-57594\\n            Output 3.3. Systems to efficiently meet and\\n            address the impacts of natural and human-\\n            induced disasters – promoted at all government\\n            and community levels\\n            Indicator 3.3.1 A: Number of municipalities with\\n            early warning systems aligned with national\\n            statistical data\\n            Baseline: 0\\n            Target 2019: To be defined\\n            Source: National Emergency Secretariat and\\n            municipal government reports\\n            Frequency: Annually\\n            Indicator 3.3.1 B: Number of municipalities with\\n            contingency plans aligned with the national risk\\n            management policy\\n            Baseline: Six municipalities.\\n            Target 2019: 17 municipalities\\n            Source: National Emergency Secretariat and\\n            municipal government reports\\n            Frequency: Annually\\n                                                               DP/DCP/PRY/2\\n15/15\" metadata={'source': './raw_data_light.csv', 'row': 0}\n"
          ]
        }
      ],
      "source": [
        "print(documents[0])"
      ]
    },
    {
      "cell_type": "code",
      "execution_count": null,
      "metadata": {
        "colab": {
          "base_uri": "https://localhost:8080/"
        },
        "id": "MdoYvzGISyhn",
        "outputId": "64057a90-1271-4a50-d49c-54548a74db5e"
      },
      "outputs": [
        {
          "name": "stdout",
          "output_type": "stream",
          "text": [
            "{'source': './raw_data_light.csv', 'row': 0}\n"
          ]
        }
      ],
      "source": [
        "print(pdfs[0].metadata)"
      ]
    },
    {
      "cell_type": "code",
      "source": [
        "\n",
        "embedding=GooglePalmEmbeddings(google_api_key=GOOGLE_API_KEY)"
      ],
      "metadata": {
        "id": "Qoxmk1DPuC6m"
      },
      "execution_count": null,
      "outputs": []
    },
    {
      "cell_type": "code",
      "source": [
        "#another way to index chunks\n",
        "'''\n",
        "index = VectorstoreIndexCreator(embedding=embedding,\n",
        "        text_splitter=CharacterTextSplitter(separator = \"\\n\",chunk_size=1000, chunk_overlap=10)).from_documents(pdfs)\n",
        "\n",
        "\n",
        "chain = RetrievalQA.from_chain_type(llm=llm,\n",
        "                            chain_type=\"stuff\",\n",
        "                            retriever=index.vectorstore.as_retriever(),\n",
        "                            input_key=\"question\")\n",
        "'''"
      ],
      "metadata": {
        "id": "vx95Dt9-Ojd9"
      },
      "execution_count": null,
      "outputs": []
    },
    {
      "cell_type": "code",
      "execution_count": null,
      "metadata": {
        "id": "z2-aHty4QsWj"
      },
      "outputs": [],
      "source": [
        "question = \"does the text discusses how political instability and terrorism impact poverty?\"\n",
        "\n",
        "query_prompt_template = \"\"\"\n",
        "                  Follow exactly those 3 steps:\n",
        "                  1. Read the context below and aggregrate this data\n",
        "                    Context : {text}\n",
        "                  2. Answer the {question} using only this context by yes or no\n",
        "                  3. if yes, Show the docoument id of the document answers the user Question: {question}\n",
        "                  4. if no, just say no, it doesn't discuss it\n",
        "\n",
        "                 If you don't have any context and are unsure of the answer, reply that you don't know about this topic.\n",
        "                \"\"\"\n",
        "\n",
        "query_prompt = PromptTemplate(\n",
        "    template=query_prompt_template, input_variables=[\"text\"]\n",
        ")"
      ]
    },
    {
      "cell_type": "code",
      "execution_count": null,
      "metadata": {
        "id": "S1hyBp1ItwwX"
      },
      "outputs": [],
      "source": [
        "persist_directory = 'docs/chroma/'\n",
        "db = Chroma.from_documents(pdfs_chunks, embedding, persist_directory=persist_directory)\n"
      ]
    },
    {
      "cell_type": "code",
      "execution_count": null,
      "metadata": {
        "colab": {
          "base_uri": "https://localhost:8080/",
          "height": 54
        },
        "id": "gkdr_83kwLhv",
        "outputId": "92e55351-fe6c-4564-89e5-8eff2be9ac9f"
      },
      "outputs": [
        {
          "output_type": "stream",
          "name": "stdout",
          "text": [
            "{'query': 'does the text discusses how political instability and terrorism impact poverty?', 'result': 'no', 'source_documents': [Document(page_content='2.4. Federal performance                                                Baseline: No                                    a focus on water scarcity issues\\n                 management system                                                       Target: Yes                                     at national, subnational and\\n                 implemented                                                             Source: Project reports                         community levels; focus on\\n                 Baseline: No                                                            Frequency: Annual                               sector-based programme\\n                 Target: Yes                                                                                                             approaches in selected areas,\\n                 Source: IPSM project reports                                            2.1.2.B. Budget distribution criteria           working through decentralized\\n                 Frequency: Annual                                                       accepted for review by Budget and               institutions\\n                                                                                                                                                                                               DP/DCP/IRQ/2\\n                                                                                         Finance Committee\\n                                                                                         Baseline: No\\n            20\\n                 United Nations Development Framework for Iraq, 2015-2019, under revision; draft outcome statements for new document provided in this results and resources framework.\\n11/16       21\\n                 Expanded governorate-specific data: http://planipolis.iiep.unesco.org/upload/Iraq/Iraq_UNDAF_2015-2019.pdf, p.30\\n                                                       DP/DCP/IRQ/2\\n12/16       Target: Yes\\n            Source: Project reports\\n            Frequency: Annual\\n            2.1.3. Performance management system\\n            for Federal Government finalized\\n            2.1.3.A: Draft performance indicators\\n            framework developed\\n            Baseline: No\\n            Target: Yes\\n            Source: Project reports\\n            Frequency: Annual\\n            2.1.3.B. Number of governmental entities\\n            testing the proposed criteria\\n            Baseline: 0\\n            Target: 5\\n            Source: Project reports\\n            Frequency: Annual\\n            2.1.4. Monitoring and evaluation system\\n            for investment budget rolled out\\n            2.1.4.A. Number of government\\n            ministries/provinces with system tested\\n            Baseline: 0\\n            Target: 3\\n            Source: IPSM project reports\\n            Frequency: Annual\\n            2.1.5. Merit-based recruitment\\n            mechanism developed for senior\\n            government officials\\n            2.1.5.A. Selection criteria developed\\n            Baseline: No\\n            Target: Yes\\n            Source: IPSM project reports\\n            Frequency: Annual\\n            2.1.5.B: Selection panel trained\\n            Baseline: No\\n            Target: Yes\\n            Source: IPSM project reports\\n            Frequency: Annual\\n 15-20656\\n 15-20656\\n                 National priority or goal: Framework of Government Programmes, 2014-2018, priority 1: Working to achieve Iraq’s security, stability and protection of its\\n                 facilities; priority 2. Upgrade living standard and services provision for citizens\\n                 UNDAF (or equivalent) outcome involving UNDP: 3. Conditions improved for the safe return of internally displaced persons in newly liberated areas22\\n                 Related strategic plan outcome (from UNDP strategic plan, 2014-2017), outcome 6. Early recovery and rapid return to sustainable development pathways are\\n                 achieved in post-conflict and post-disaster settings\\n                 Indicators                                                             3.1.1. Capacity of local administrations in\\n                                                                                                                                  Council of Ministers secretariat          Regular: $800\\n                                                      National Statistical System;      targeted areas for planning, administrative\\n                                                                                                                                  and key government line\\n                 3.1. Public services available       Kurdistan Region Statistics       and financial management restored.        ministries, Economic and                  Other: $99,200\\n                 and functioning as measured by:      Office; United Nations Joint                                                Social Commission for', metadata={'row': 4, 'source': './raw_data_light.csv'}), Document(page_content='human rights.        justice enhanced                             \\x83 Capacity of Office of National Security       \\x83 Target: Human rights issues increasingly addressed by     CSOs\\n                   Baseline: 2006 data                              (ONS) and police and communities                Government and CSOs; fewer cases of guns-based            Funding: UNEP,\\n                   Target: Human Rights Commission                  strengthened to reduce SALW prevalence          violence; more communities declared arms-free. At least   DFID, European\\n                   effective and cases of abuse redressed,          and improve community and human                 60 community-based livelihood recovery initiatives        Community, World\\n                   communities declared arms-free, and local        security                                        implemented; 150,000 job opportunities created for youth  Bank, Japan, Sweden,\\n              6\\n                                                                                                                                                                                            DP/DCP/SLE/1\\n                 courts staffed and justice dispensed in a       \\x83 Strengthened national systems for             and vulnerable groups; conflict sensitivity and           Norway\\n                 timely manner                                     sustainable employment generation.            management skills mainstreamed in national policies,\\n                                                                                                                 strategies and education curricula.\\n            Main intended UNDAF outcome 2:            By 2010, the livelihoods of youth, women and vulnerable groups have been enhanced\\n            National priority or goal:                Promote pro-poor sustainable growth for food security and employment\\nPoverty         Outcome 2.1                                      Country Programme Outputs:                   Output Indicators:                                           Ministries of           Regular:\\nreduction       Progressive improvement in all MDGs by           \\x83 MDG-based poverty reduction strategy       \\x83 Development Aid Coordinating Office (DACO) and             Agriculture, Land,      $2.2m\\nand human       2010.                                               (2008 – 2010) formulated and                Ministry of Development strengthened, poverty reduction    Culture and Tourism,    Other:\\ndevelopment     Indicator: GDP growth per capita, per cent          implemented;                                strategy plan (PRSP) validated and implemented, national   Energy and Water        $4.0m\\nMYFF goal 2     drop in poverty rate, progress on MDG            \\x83 Poverty reduction monitoring system          systems for employment generation strengthened, private    Resources, National     EC $1.0m\\n                targets 1,3,4,6                                     established and strengthened;               sector contribution to development increased,              Commission for          DFID\\nAchieving the   Baseline: 2006 data                              \\x83 National human development and MDG         \\x83 Baseline: weak monitoring and evaluation systems for       Environment and         $2.0m\\nMDGs and        Target: Halve incidence of poverty;                 progress reports produced and dissemi-      poverty tracking, low advocacy of MDGs, local              Forestry (NACEF),       Irish Aid\\nreducing        increased income per capital and GDP                nated ;                                     government plans not MDG-based                             NGO’s, farmers          $1.0m\\nhuman           growth rate by 2010                              \\x83 Strengthened capacity of key ministries,   \\x83 Targets: MDG-based PRSP 2008-2010 developed and            unions,\\npoverty,                                                            departments and agencies in pro-poor and    implemented; monitoring and evaluation systems             Funding: Global         Regular:\\nincreasing      Outcome 2.2                                         MDG-based sector policy analysis,           operationalized; local council development plans are       Environment Fund,       $0.5m\\nsustainable     Environment and disaster risk reduction             planning, formulation and implementation;   MDG-based,                                                 Montreal Protocol       Others:\\nenergy and      strategies mainstreamed into national                                                         \\x83 Indicators: Early warning systems established and          Unit, FAO, World        $3.0m\\nenvironmental policies and programmes                            \\x83 Mechanisms established for enhanced          strategies formulated; quality of disaster response; ONS   Bank and United         (GEF/MP)', metadata={'row': 5, 'source': './raw_data_light.csv'}), Document(page_content='governments. UNDP will also work with OHCHR, UN-Women, ILO, UNFPA, UNICEF and the\\n         United Nations Office for Drugs and Crime (UNODC).\\n         12. The country has reduced its natural disaster and climate change risks. UNDP will support the\\n         participatory design and adoption of risk evaluation and mapping systems at the national level, in\\n         addition to assessing the social and economic losses caused by natural disasters. UNDP will continue\\n         to provide technical assistance and facilitate the exchange of knowledge, technologies and resources\\n         for the implementation of the recently approved national risk management policy, and strengthening\\n         the leadership of the National Emergency Secretariat. Furthermore, UNDP will support the\\n         subnational promotion and implementation of gend er-sensitive institutional and policy frameworks for\\n         local risk reduction and management, and strategies to foster community resilience. Among these\\n         strategies, the organization will foster participatory planning in basic sanitation, helping to reduce the\\n         gap in MDG 7. It will pay particular attention to ensuring indigenous communities´ access to\\n         sanitation services. UNDP will support the development of disaster prevention and response systems\\n         by providing technical assistance for the creation of risk maps, early warning systems and\\n         contingency plans at national, subnational and local levels. In addition to the National Emergency\\n         Secretariat, governors’ offices and municipalities are active partners in this process, along with other\\n         public agencies such as the Technical Planning Secretariat and the Paraguayan Indigenous Institute,\\n         humanitarian partners such as the Red Cross, Intermon/Oxfam, International Plan, and United Nations\\n         organizations that are part of the United Nations Emergency Team (UNETE), which promotes South-\\n         South cooperation and sharing of best practices with other countries in the region as part of its\\n         capacity strengthening strategy.\\n         13. UNDP has designed the country programme in close consultation with national authorities to\\n         ensure national ownership and sustainability of results. The organization will seek to build alliances\\n         with the international financial institutions in an effort to enhance the programme’s effectiveness and\\n         efficiency during implementation. It will also engage with civil society, academia and the private\\n         sector in order to advocate for and promote sustainable human development.\\n14-57594                                                                                                        5/15\\nDP/DCP/PRY/2\\n      III. Programme management and risks\\n           14. The Ministry of Foreign Affairs and the Technical Planning Secretariat will coordinate the\\n           implementation of the country programme mainly under the national execution modality. They may also\\n           pursue other implementation modalities led for example by United Nations organizations, NGOs or direct\\n           UNDP implementation to enable effective responses under specific circumstances.\\n           15. UNDP will review programme effectiveness and performance with its main counterpart on an annual\\n           basis and in coordination with the UNDAF annual review process. Project boards will continue to provide the\\n           platform for participatory governance and decision-making that is nationally owned and led.\\n           16. Low institutional capacity and high turnover of senior government officials may affect the successful\\n           implementation of the programme, eventually hindering ownership, results achievements and accountability.\\n           To mitigate this risk, UNDP will promote inter-institutional and multi-actor participatory strategies and\\n           monitoring mechanisms to identify at an early stage potential implementation difficulties for immediate\\n           action.\\n           17. Difficulties mobilizing financial resources in the past may continue and can potentially jeopardize\\n           programme and project implementation and scaling-up. For this reason, having experienced a realignment\\n           exercise in 2012-2013, which resulted in the consolidation of a structure and teams with the necessary\\n           substantive and operational capacities to respond effectively and efficiently and to guarantee achievement of\\n           results, the country office will seek partnerships with multilateral banks and the private sector. UNDP will also\\n           pursue South-South and triangular cooperation opportunities that offer innovative approaches to cost-\\n           efficiency.\\n           18. The management will ensure full compliance with the UNDP programme operations policies and', metadata={'row': 0, 'source': './raw_data_light.csv'}), Document(page_content='quality of participation. This\\n            Indicator 2.4.1 A: Quality of civil society         output includes Ministry of\\n            participation in development and public-            Women participation, all United\\n            management-related issues, disaggregated by         Nations organizations in the\\n            sex, age groups, indigenous people and other        country and several social and\\n            excluded groups                                     community organizations.\\n            Baseline: To be defined in 2014 (civil society\\n            and UNDP)\\n            Target: To be defined\\n            Source: To be defined\\n            Frequency: To be defined\\n            Indicator 2.4.1 B: Percentage of women\\n            participating as candidates in national elections\\n            for: (a) president (b) senator; (c)\\n            congresswoman; (d) governor; (e) council\\n            woman in departmental councils\\n            Baseline 2013: (a) 22.8%; (b) 43.4%; (c)\\n            36.3%; (d) 13.2%; (e) 38.2%\\n            Target 2018: To be defined in 2014 (Superior\\n            Court for Electoral Justice, Ministry of\\n            Women, UN-Women and UNDP)\\n            Source: Superior Court for Electoral Justice\\n            Frequency: Quinquennial\\n            Output 2.5: Institutions and systems enabled        UNDP will leverage South-South\\n            to address awareness, prevention and                support for participating sectors,\\n            enforcement of anti-corruption measures             and will promote transparency\\n            across sectors and stakeholders                     agreements among these sectors\\n                                                                and their providers and users,\\n            Indicator 2.5.1: Number of approved and             National Anticorruption\\n            implemented proposals for corruption risk           Secretariat, and ministries that\\n            mitigation in specific sectors                      provide basic social services.\\n            Baseline: 0\\n            Target: 2019: To be defined\\n            Source: National Anticorruption Secretariat\\n            and ministries that provide basic social services\\n            Frequency: Annual\\n                                                                                                     DP/DCP/PRY/2\\n13/15\\n                                                                                                                                                                                             DP/DCP/PRY/2\\n14/15       NATIONAL PRIORITY OR GOAL: Supporting the reduction of global climate change risks; Improving quality of living within a sound and sustainable habitat\\n            UNDAF OUTCOME 3.1: Paraguay will have reduced its disaster risks and increased community resilience and responsiveness to emergencies and disasters\\n            RELATED STRATEGIC PLAN OUTCOME 5: Countries are able to reduce the likelihood of conflict and lower the risk of natural disasters, including from climate change\\n            Indicator 3a: Percentage of              o   The country has not yet              Output 3.1. System developed to assess natural     National Emergency             Regular:\\n            implementation of an integral risk           implemented a methodology to         and human-induced risks at national and sub-       Secretariat leadership.        $262,750\\n            reduction, prevention, early warning and     assess economic losses from          national levels                                    UNDP will intensify actions\\n            disaster response and recovery system        natural disasters that can be used   Indicator 3.1.1: Number of municipalities with     to strengthen National\\n            Baseline: To be agreed in 2014               as a basis for a structured          risk maps developed with local communities in a    Emergency Secretariat          Other:\\n            Target: To be defined                        reduction strategy. This             participatory manner, aligned with national        capacities. Departments and    $3,850,000\\n            Disaggregation: Departments                  methodology will be defined in       statistics                                         municipalities will\\n                                                         2014 and 2015 under the              Baseline 2014: 0 municipalities                    participate. Promotion of\\n            Indicator 3b: Mortality risk from natural    responsibility of the National       Target 2019: To be defined                         community participation will\\n            hazards, for women and men                   Emergency Secretariat and with       Source: National Emergency Secretariat             be a priority. Business', metadata={'row': 0, 'source': './raw_data_light.csv'}), Document(page_content='start the local economy and generate income for local households returning to their homes. Whenever\\n         possible, cash support will be focused on female-headed households and youth. Solid waste removal\\n         will provide cash-for-work opportunities, especially for the youth. UNDP will pursue a strategy for\\n         reconciliation that focuses on building capacity and mobilizing influential local actors, including\\n         religious and tribal leaders and youth and women’s groups, to promote social peace through mediation\\n         training and inter-community dialogue. Similar activities will be undertaken to promote peace\\n         between internally displaced persons and host communities.\\n   III. Programme and risk management\\n         24. This country programme document outlines UNDP contributions to national results and serves as\\n         the primary basis of accountability to the Executive Board for results alignment and resources\\n         assigned to the programme at the country level. Accountabilities of managers at the country, regional\\n         and headquarters levels with respect to country programmes are prescribed in the UNDP programme\\n         and operations policies and procedures and the internal controls framework.\\n         25. UNDP recognises the uncertainty and risks posed by the conflict in the country for the successful\\n         implementation of the proposed programme. There is a possibility of a major escalation of conflict,\\n         increased militarization, de-prioritization of key reforms or their co-option by vested interests, partisan\\n         gridlock, and continuing shortfalls in partner capacity. In the latter case, the main risks are a slow\\n         speed of response, high staff turnover, and restrictions imposed by the security environment.\\n         26. To help mitigate these risks, UNDP will engage with government and national partners to\\n         maximize national ownership, broaden the base of national implementation and apply a rigorous\\n         vetting processes to verify the capacity of partners, taking remedial action where needed. National\\n         staff will be trained to assume greater responsibilities in anticipation of any sudden evacuation of\\n         internationals. UNDP will introduce greater flexibility and responsiveness in its programming through\\n         area-based assessments and monitoring exercises aimed at early detection of challenges, and will\\n         apply fast-track procedures whenever necessary. These measures will be complemented by a further\\n         expansion of the UNDP country presence. Erbil is now a thriving programmatic and operational hub,\\n         and operations have been extended to Basra, which will serve southern governorates, and Karbala, for\\n         the mid-Euphrates governorates. During this country programme period, further expansion is\\n         envisioned in Kirkuk, as security permits. Security risks and the UNDP presence will be managed\\n         through regular programme criticality exercises so as to establish appropriate institutional\\n         arrangements. These will be reinforced by updated business continuity plans; more collective\\n         approaches (with UNAMI and the United Nations country team) for managing risk; and more realistic\\n         mutual expectations between the Government, UNAMI, UNDP, other national partners, and donors.\\n         Risk transfer through the utilization of recruitment companies will ensure that needed international\\n         experts are deployed in high-risk areas.\\n         27. The estimated resource base of the programme is $235,662,000, approximately $7.7 million of\\n         which will come from UNDP regular resources. In addition, $24 million of other resources is already\\n         budgeted and secured for 2016 to add to $60 million in hard pipeline. To close remaining funding\\n         gaps, UNDP Iraq has developed a strategic partnership and resource mobilization strategy for a larger,\\n         more predictable resource base and a greater pool of strategic partnerships with traditional and\\n6/16                                                                                                                  15-20656\\n                                                                                                          DP/DCP/IRQ/2\\n         emerging donors, including the Government of Iraq. It has also established a management support unit\\n         dedicated to donor management and outreach to international partners. Resource mobilization is\\n         especially challenging, due to limited international donor interest in the sustainable development\\n         process in Iraq – even as partners such as the European Union, Germany, Italy, the United Kingdom,\\n         and the United States of America, in coordination with the United Nations, have been calling for the\\n         establishment of the Iraq Stabilization and Reconstruction Trust Fund. The Presidency and the', metadata={'row': 4, 'source': './raw_data_light.csv'}), Document(page_content=\"poverty, income inequality and concentrated land holding compound the effects of extreme weather events\\n         which directly affect livelihoods, especially that of poor rural populations and indigenous people.\\n         Urbanization has grown progressively and the lack of employment has fostered rural-urban migration. New\\n         settlers are concentrated in risk areas around large urban centres, increasing their vulnerability. Paraguay is\\n         mainly an urban country, with 59.2 per cent of its people living in cities versus 40.8 per cent in rural areas.\\n         Institutional frameworks designed to support the implementation of public policies and enable greater\\n         resilience have shown major progress at the national level. The national risk management and reduction policy\\n         approved in 2014 is a relevant step in this direction. Still, some challenges remain in consolidating an\\n         integrated national risk management and resilience promotion system and in building the country's capacity to\\n         assess and quantify the impact of disasters and other threats. While Paraguay has made efforts and progress at\\n         the national level, regulatory frameworks and institutions for the implementation of risk management policies\\n         at the local level are just emerging and need to incorporate a gender and indigenous people-sensitive\\n         approach. Likewise, the country lacks unified tools and consolidated maps at the national and subnational\\n         levels that would help to assess risks properly and foster systems to calculate economic losses resulting from\\n         disasters. With regard to disaster preparedness and response, the Government faces the challenge of\\n         developing a national early warning system and nationwide plans to address threats in a coordinated manner.\\n         6. The assessment of development results 2010 highlighted the UNDP contribution in the context of the\\n         democratic transition of the last 10 years. The assessment showed that UNDP worked in crucial areas to lay\\n         the foundations for human development; enriched the debate and thinking through its technical assistance and\\n         advisory services in a critical period of changes; and strengthened the capacities of the Executive Branch.\\n         Evaluations from 2010 and 2012 showed that UNDP had positively impacted policymaking, resulting in the\\n         first ever structured body of social policies, the creation of environmental policies, risk management policies\\n         with local accountability, and the positioning in the public agenda of the eradication of discriminatory\\n         practices based on gender and ethnicity. UNDP also contributed to developing democratic social\\n         organizations, acted as a mediator helping parties to reach agreements based on the equilibrium between\\n         social demand and the capacity of the state to meet them, and facilitated consensus building. UNDP supported\\n         the modernization and increased efficiency of public entities, which deeply impacted the creation of the Social\\n14-57594                                                                                                                3/15\\nDP/DCP/PRY/2\\n          Cabinet and its technical secretariat and the development of capacities in different ministries and national\\n          institutions.\\n          7. Lessons learned from the previous cooperation cycles suggest that the value added of UNDP in Paraguay\\n          consists in its helping to develop capacity through high quality technical assistance and advisory services that\\n          support public policy design and implementation and the application of results-based management systems.\\n          The comparative advantage of UNDP in this field is based on its own experiences, its best practices in\\n          verifiable, replicable and scalable interventions at the local or national levels, and a broad regional and global\\n          knowledge network. Key development partners have consistently drawn attention to the capacity of UNDP to\\n          facilitate the coordination of public, private and international cooperation and to foster dialogue and build\\n          consensus in the support of public policies as one of its comparative advantages. The new programme is hence\\n          consistent with the organization’s strategic institutional change and focuses on providing high-quality policy\\n          advice and programming approaches aimed at responding to development challenges.\\n          8. In order to guarantee the sustainability of UNDP interventions, the assessment of development results\\n          recommended more direct support to civil society, stronger links with parliament and the judiciary, and greater\\n          focus on the most vulnerable populations. It also emphasized the need to strengthen institutional capacities to\", metadata={'row': 0, 'source': './raw_data_light.csv'}), Document(page_content=\"coordination, and inadequate funding for government-related activities hinder translation into\\n                    action. In addition, not enough financial resources or investments exist for environmental\\n                    conservation, climate action, and economic diversification. The private sector is constrained by\\n                    an unfavorable business environment and limited access to green technologies. Participation in\\n                    decision-making processes and management of natural resources is not inclusive, especially for\\n                    women, vulnerable groups, and populations with insufficient access to information and\\n                    services.\\n                    8. As a medium-term response, the government outlined various measures to address these\\n                    issues in its Coordinated Program of Economic and Social Development Policies 2017-2024\\n                    (CPESDP). The government adopted a number of domestic policy measures in its budgetary\\n                    frameworks and is implementing a three-year International Monetary Fund programme to\\n                    restore macroeconomic stability, including debt sustainability, to put growth on a sustainable\\n                    trajectory.13 The CPESDP is anchored in the SDGs and includes a section on international\\n                    development frameworks. The four programmatic priority areas, derived from the 2018-2022\\n                    United Nations Sustainable Development Partnership (UNSDP), are: (i) economic\\n5\\n  Ghana Anti-Corruption Coalition and West Africa Civil Society Institute, “The state of civil society in Ghana: An Assessment,” (2013).\\n6\\n  Inter-Parliamentary Union Women in Parliament.\\n7\\n  Coalition of Domestic Election Observers (2017).\\n8\\n  2016 CCA.\\n9\\n  Forestry Commission (2010).\\n10\\n   Forestry Commission (2017), Ghana Forest Reference Level.\\n11\\n   Energy Commission (2016), National Energy Statistics.\\n12\\n   Government of Ghana (2015), Ghana's Third National Communication Report to the United Nations Framework Convention on Climate Change\\n(UNFCCC).\\n13\\n   Press release from 26 February 2017, Government of Ghana Highlights of The Mid-Year Fiscal Policy Review of the 2017 Budget Statement and\\nEconomic Policy.\\n                                                                                                                                             3\\nDP/DCP/GHA/3\\n                      development; (ii) social development; (iii) environment, infrastructure and human settlements,\\nDP/DCP/GHA/3          and (iv) governance, corruption and public accountability.\\n                      9. The UNDP contribution to the UNSDP14 is to support Ghana in becoming more equitable,\\n                      sustainable and accountable in delivering public services, and managing resources. To achieve\\n                      this requires solutions that address the overarching development challenges of persistent\\n                      inequality, limited access to quality services, increasing conflict, environmental degradation,\\n                      and consequences of climate change. Progress relies on strengthening institutions and processes\\n                      to be more effective and accountable in providing equitable access to quality services;\\n                      promoting inclusion in policy formulation; empowering vulnerable groups to participate in\\n                      decision-making, especially at the community level; enhancing capacities for peace and social\\n                      cohesion; strengthening institutional capacities to tackle environmental degradation and climate\\n                      change; providing communities with information and tools to protect the environment and build\\n                      community resilience, and promoting green and sustainable investments and businesses.\\n                      10. In terms of past performance, evaluations of the UNDP country programme document\\n                      (CPD) for 2012 to 2017 and United Nations Development Assistance Framework (UNDAF)\\n                      for the same period indicated the programme was well anchored, responsive and relevant to\\n                      national priorities. UNDP contributed to strategic results by establishing a solid policy\\n                      framework on climate change; consolidating the national peace architecture and peaceful\\n                      elections in 2016; carrying out planning, surveys and data analyses; supporting regional\\n                      coordination, and development planning in the North. Interventions related to the empowerment\\n                      of local communities for sustainable development were effective, and UNDP collaborated with\\n                      other United Nations organizations in promoting green economy practices. Lessons learned\", metadata={'row': 1, 'source': './raw_data_light.csv'}), Document(page_content='UNDAF OUTCOME INDICATOR(S),                      FREQUENCY OF DATA                 INDICATIVE COUNTRY PROGRAMME\\n                                                                                                                                                     PARTNERSHIPS                  BY OUTCOME\\n              BASELINES, TARGET(S)                           COLLECTION, AND                              OUTPUTS\\n                                                                                                                                                     FRAMEWORKS                   (in United States\\n                                                             RESPONSIBILITIES\\n                                                                                                                                                                                       dollars)\\n           Indicator 1a: Percentage of populationo     Annual data of the Permanent           Output 1.1: Options to promote inclusive           Leadership of the Government     Regular:\\n           in: (a) poverty; (b) extreme poverty        Household Survey, General              and sustainable social protection, based on        (particularly Ministry of        $451,930\\n           Baseline (2013): (a) 23.8%; (b) 10.1%       Directorate of Statistics, Surveys     best practices and lessons learned at              Finance and Social Action\\n           Target (2019): (a) XX%; (b) XX% to be       and Census                             regional level                                     Secretariat), and departmental\\n           defined in 2014, disaggregated by sex, as                                                                                             and municipal governments.       Other:\\n           per the national development plan           The country has defined a national     Indicator 1.1.1 A: Number of environmental         Several civil society            $28,572,000\\n           Urban area target (2013): (a) 17%;          climate change policy and a            and gender conditionalities established in         organizations actively\\n           (b) 5.1%                                    national environmental policy. The     conditional cash transfer programmes and           participate in management and\\n           Urban target (2019): (a) XX%; (b)           implementation roadmap and             other poverty reduction programmes as a pilot      monitoring. All United\\n           XX% to be defined in 2014,                  progress indicators need to be         for scaling up the poverty and environment         Nations organizations in\\n           disaggregated by sex as per the national    defined. The Ministry of the           nexus of poverty reduction                         Paraguay are involved.\\n           development plan                            Environment is responsible for this    Baseline: 0 environmental conditionality; 1\\n           Rural baseline (2013): (a) 33.8%;           in consultation with other agencies,   gender conditionality\\n           (b) 17.6%                                   such as the Climate Change             Target: To be defined\\n           Rural target rural (2019): (a) XX%;         Commission and the National            Source: Poverty and Environment Initiative-\\n           (b) XX% to be defined in 2014,              Environmental Council, with            Paraguay, Social Action Secretariat, Secretariat\\n           disaggregated by sex as per the national    United Nations support. Indicators     of the Environment\\n           development plan                            should have be defined by the end      Frequency: Annual (2015)\\n                                                       of 2014.\\n           Indicator 1b: Implementation of the                                                Indicator 1.1.1 B Percentage of monthly\\n           Statistical National Development                                                   household income increases from farm\\n           Strategy                                                                           production, micro-credits and inclusive\\n           Baseline: Strategy in design stage                                                 business under public-private partnerships\\n           Target: Strategy implemented                                                       Baseline: Monthly income of 400 households\\n           Source: Technical Planning Secretariat                                             in the Tava-i district equals $139 (monthly)\\n                                                                                              Target: 60% increase in monthly household\\n                                                                                              income (or $220 in 2017); percentage increase', metadata={'row': 0, 'source': './raw_data_light.csv'})]}\n"
          ]
        }
      ],
      "source": [
        "# Expose index to the retriever\n",
        "retriever = db.as_retriever(search_type=\"similarity\", search_kwargs={\"k\": 4})\n",
        "# Create chain to answer questions\n",
        "from langchain.chains import RetrievalQA\n",
        "\n",
        "\n",
        "qa = RetrievalQA.from_chain_type(\n",
        "    llm=llm, chain_type=\"stuff\", retriever=retriever, return_source_documents=True\n",
        ")\n",
        "response = qa({\"query\": question})\n",
        "print(response)"
      ]
    },
    {
      "cell_type": "code",
      "source": [
        "#another way\n",
        "#print the results along with the source documents, so that we can see how the\\\n",
        "      # retriever performed, i.e. which chunks of text it found to prepend to the query as context for the LLM.\n",
        "def print_result(response_obj):\n",
        "    print(\"SOURCES: \\n\")\n",
        "    cnt = 1\n",
        "    for source_doc in response_obj[\"source_documents\"]:\n",
        "        print(f\"Chunk #{cnt}\")\n",
        "        cnt += 1\n",
        "        print(\"Source Metadata: \", source_doc.metadata)\n",
        "        print(\"Source Text:\")\n",
        "        print(source_doc.page_content)\n",
        "        print(\"\\n\")\n",
        "    print(\"RESULT: \\n\")\n",
        "    print(response_obj[\"result\"] + \"\\n\\n\")\n",
        "\n",
        "\n",
        "print_result(response)"
      ],
      "metadata": {
        "id": "7VmdHcx_5vdz"
      },
      "execution_count": null,
      "outputs": []
    },
    {
      "cell_type": "code",
      "source": [
        "#Contextual Compression\n",
        "def pretty_print_docs(docs):\n",
        "    print(f\"\\n{'-' * 100}\\n\".join([f\"Document {i+1}:\\n\\n\" + d.page_content for i, d in enumerate(docs)]))\n",
        "\n",
        "from langchain.retrievers import ContextualCompressionRetriever\n",
        "from langchain.retrievers.document_compressors import LLMChainExtractor\n",
        "\n",
        "# Wrap our vectorstore\n",
        "compressor = LLMChainExtractor.from_llm(llm)\n",
        "\n",
        "compression_retriever = ContextualCompressionRetriever(\n",
        "    base_compressor=compressor,\n",
        "    base_retriever=db.as_retriever()\n",
        ")\n",
        "\n",
        "compressed_docs = compression_retriever.get_relevant_documents(question)\n",
        "pretty_print_docs(compressed_docs)"
      ],
      "metadata": {
        "id": "xbLuZuGwCFq2"
      },
      "execution_count": null,
      "outputs": []
    },
    {
      "cell_type": "markdown",
      "metadata": {
        "id": "Tj7LLWe-SVSJ"
      },
      "source": [
        "Q&A : Gemini Pro example"
      ]
    },
    {
      "cell_type": "code",
      "execution_count": null,
      "metadata": {
        "id": "AbsrusB6SyOI"
      },
      "outputs": [],
      "source": [
        "import google.generativeai as genai\n",
        "genai.configure(api_key=GOOGLE_API_KEY)\n",
        "model = genai.GenerativeModel('gemini-pro')"
      ]
    },
    {
      "cell_type": "code",
      "source": [
        "loader = CSVLoader(file_path=\"./raw_data.csv\")\n",
        "documents = loader.load()"
      ],
      "metadata": {
        "id": "fA58tRq0NOtz"
      },
      "execution_count": null,
      "outputs": []
    },
    {
      "cell_type": "code",
      "execution_count": null,
      "metadata": {
        "id": "IObWceiOTPgp"
      },
      "outputs": [],
      "source": [
        "\n",
        "retrived_docs = pd.DataFrame()\n",
        "context =        \"\"\"\n",
        "                     I will give you a long text, you are required to find out if the text clearly includes some discussions about how political instability and terrorism impact poverty.:\n",
        "                     1. You should answer with Yes or No,\n",
        "                     2. if Yes, show the paragraphs discussing political instability and terrorism impact poverty.\n",
        "                     3. if no,  show a text expressing that the text doesn't include discussion about the topic.\n",
        "\n",
        "                \"\"\"\n",
        "for pdf in documents:\n",
        "    text = pdf.page_content\n",
        "    g_response = model.generate_content([context , text], stream=True)\n",
        "    g_response.resolve()\n",
        "    answer = g_response.text\n",
        "    answer = answer.strip()\n",
        "    import re\n",
        "    #answer = re.sub(r\"[^\\w\\s]\", \"\", answer).lower()\n",
        "    if answer.startswith(\"Yes\") :\n",
        "        data = {\"doc_id\": pdf.metadata['row'] , \"text\": answer[3:20]}\n",
        "        retrived_docs = retrived_docs.append(pd.Series(data), ignore_index=True)\n",
        "\n"
      ]
    },
    {
      "cell_type": "code",
      "source": [
        "print(retrived_docs)\n",
        "retrived_docs.to_csv(\"result_task2.csv\")"
      ],
      "metadata": {
        "colab": {
          "base_uri": "https://localhost:8080/"
        },
        "id": "S4ImkWcdRHpC",
        "outputId": "c4872bce-d4c9-4b29-a1b5-5e930eaa505e"
      },
      "execution_count": null,
      "outputs": [
        {
          "output_type": "stream",
          "name": "stdout",
          "text": [
            "   doc_id                                               text\n",
            "0      99   the discussions about how political instabili...\n",
            "1     101   under section i programme rationale\\nparagrap...\n"
          ]
        }
      ]
    },
    {
      "cell_type": "code",
      "source": [
        "filtered_documents = [\n",
        "    document\n",
        "    for document in documents\n",
        "    if document.metadata[\"row\"] in retrived_docs[\"doc_id\"]\n",
        "]\n",
        "\n"
      ],
      "metadata": {
        "id": "WuTKJj_SU3q3"
      },
      "execution_count": null,
      "outputs": []
    },
    {
      "cell_type": "markdown",
      "metadata": {
        "id": "c4s4rBy_SSta"
      },
      "source": []
    }
  ],
  "metadata": {
    "colab": {
      "provenance": [],
      "include_colab_link": true
    },
    "kernelspec": {
      "display_name": "Python 3",
      "name": "python3"
    },
    "language_info": {
      "name": "python"
    }
  },
  "nbformat": 4,
  "nbformat_minor": 0
}